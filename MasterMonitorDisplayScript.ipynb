{
 "cells": [
  {
   "cell_type": "markdown",
   "id": "819cebd7",
   "metadata": {},
   "source": [
    "# MasterMonitor Display Script"
   ]
  },
  {
   "cell_type": "markdown",
   "id": "1ff9bee2",
   "metadata": {},
   "source": [
    "## GIF Display"
   ]
  },
  {
   "cell_type": "markdown",
   "id": "ed48cdb9",
   "metadata": {},
   "source": [
    "### Imports"
   ]
  },
  {
   "cell_type": "code",
   "execution_count": 1,
   "id": "b3b62d5c",
   "metadata": {},
   "outputs": [],
   "source": [
    "from PIL import Image\n",
    "from PIL import ImageDraw\n",
    "from PIL import ImageFont\n",
    "import time\n",
    "\n",
    "import ST7735"
   ]
  },
  {
   "cell_type": "markdown",
   "id": "75deaea1",
   "metadata": {},
   "source": [
    "###  Name Of The GIF File"
   ]
  },
  {
   "cell_type": "code",
   "execution_count": 2,
   "id": "d078ff09",
   "metadata": {},
   "outputs": [],
   "source": [
    "#It Needs To Be In The Same Folder As Your Notebook\n",
    "\n",
    "image_file = \"party_blob.gif\""
   ]
  },
  {
   "cell_type": "markdown",
   "id": "64771d66",
   "metadata": {},
   "source": [
    "### Setting Up The Display Class"
   ]
  },
  {
   "cell_type": "code",
   "execution_count": 3,
   "id": "a5488a86",
   "metadata": {},
   "outputs": [],
   "source": [
    "#Do Not Worry About The Details Here :)\n",
    "\n",
    "disp = ST7735.ST7735(port=0,cs=1,dc=9,backlight=12,rotation=270,spi_speed_hz=10000000)"
   ]
  },
  {
   "cell_type": "markdown",
   "id": "d2f56619",
   "metadata": {},
   "source": [
    "### Initialize Display"
   ]
  },
  {
   "cell_type": "code",
   "execution_count": 4,
   "id": "557c0492",
   "metadata": {},
   "outputs": [],
   "source": [
    "disp.begin()\n",
    "\n",
    "width = disp.width\n",
    "height = disp.height"
   ]
  },
  {
   "cell_type": "markdown",
   "id": "d978fe6c",
   "metadata": {},
   "source": [
    "### Load GIF File"
   ]
  },
  {
   "cell_type": "code",
   "execution_count": 5,
   "id": "a9fb6f13",
   "metadata": {},
   "outputs": [
    {
     "name": "stdout",
     "output_type": "stream",
     "text": [
      "Party_Blob is SO cute!!!\n",
      "Drawing GIF, Stop This Cell To Exit!\n"
     ]
    }
   ],
   "source": [
    "image = Image.open(image_file)\n",
    "print(\"Party_Blob is SO cute!!!\")\n",
    "print(\"Drawing GIF, Stop This Cell To Exit!\")\n",
    "\n",
    "frame = 0"
   ]
  },
  {
   "cell_type": "markdown",
   "id": "e5aee358",
   "metadata": {},
   "source": [
    "### Loop"
   ]
  },
  {
   "cell_type": "code",
   "execution_count": null,
   "id": "18d91607",
   "metadata": {},
   "outputs": [],
   "source": [
    "while True:\n",
    "    try:\n",
    "        image.seek(frame)\n",
    "        disp.display(image.resize((width, height)))\n",
    "        frame += 1\n",
    "        time.sleep(0.00)\n",
    "    except EOFError:\n",
    "        frame = 0"
   ]
  },
  {
   "cell_type": "code",
   "execution_count": null,
   "id": "205afd7d",
   "metadata": {},
   "outputs": [],
   "source": []
  }
 ],
 "metadata": {
  "kernelspec": {
   "display_name": "Python 3",
   "language": "python",
   "name": "python3"
  },
  "language_info": {
   "codemirror_mode": {
    "name": "ipython",
    "version": 3
   },
   "file_extension": ".py",
   "mimetype": "text/x-python",
   "name": "python",
   "nbconvert_exporter": "python",
   "pygments_lexer": "ipython3",
   "version": "3.7.3"
  }
 },
 "nbformat": 4,
 "nbformat_minor": 5
}
