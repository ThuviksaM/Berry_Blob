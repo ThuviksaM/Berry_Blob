{
 "cells": [
  {
   "cell_type": "markdown",
   "id": "04345ae1",
   "metadata": {},
   "source": [
    "# MasterMonitor Display Script"
   ]
  },
  {
   "cell_type": "markdown",
   "id": "90c2f8f8",
   "metadata": {},
   "source": [
    "## GIF Display"
   ]
  },
  {
   "cell_type": "markdown",
   "id": "ffd094d0",
   "metadata": {},
   "source": [
    "### Imports"
   ]
  },
  {
   "cell_type": "code",
   "execution_count": 1,
   "id": "27f56d19",
   "metadata": {},
   "outputs": [],
   "source": [
    "from PIL import Image\n",
    "from PIL import ImageDraw\n",
    "from PIL import ImageFont\n",
    "import time\n",
    "\n",
    "import ST7735"
   ]
  },
  {
   "cell_type": "markdown",
   "id": "fec24e61",
   "metadata": {},
   "source": [
    "###  Name Of The GIF File"
   ]
  },
  {
   "cell_type": "code",
   "execution_count": 2,
   "id": "87b0224b",
   "metadata": {},
   "outputs": [],
   "source": [
    "#It Needs To Be In The Same Folder As Your Notebook\n",
    "\n",
    "image_file = \"party_blob.gif\""
   ]
  },
  {
   "cell_type": "markdown",
   "id": "74f01458",
   "metadata": {},
   "source": [
    "### Setting Up The Display Class"
   ]
  },
  {
   "cell_type": "code",
   "execution_count": 3,
   "id": "833124ea",
   "metadata": {},
   "outputs": [],
   "source": [
    "#Do Not Worry About The Details Here :)\n",
    "\n",
    "disp = ST7735.ST7735(port=0,cs=1,dc=9,backlight=12,rotation=270,spi_speed_hz=10000000)"
   ]
  },
  {
   "cell_type": "markdown",
   "id": "92b3dcb0",
   "metadata": {},
   "source": [
    "### Initialize Display"
   ]
  },
  {
   "cell_type": "code",
   "execution_count": 4,
   "id": "80614c08",
   "metadata": {},
   "outputs": [],
   "source": [
    "disp.begin()\n",
    "\n",
    "width = disp.width\n",
    "height = disp.height"
   ]
  },
  {
   "cell_type": "markdown",
   "id": "129b0f77",
   "metadata": {},
   "source": [
    "### Load GIF File"
   ]
  },
  {
   "cell_type": "code",
   "execution_count": 5,
   "id": "6cc881cc",
   "metadata": {},
   "outputs": [
    {
     "name": "stdout",
     "output_type": "stream",
     "text": [
      "Party_Blob is SO cute!!!\n",
      "Drawing GIF, Stop This Cell To Exit!\n"
     ]
    }
   ],
   "source": [
    "image = Image.open(image_file)\n",
    "print(\"Party_Blob is SO cute!!!\")\n",
    "print(\"Drawing GIF, Stop This Cell To Exit!\")\n",
    "\n",
    "frame = 0"
   ]
  },
  {
   "cell_type": "markdown",
   "id": "e4ff52b4",
   "metadata": {},
   "source": [
    "### Loop"
   ]
  },
  {
   "cell_type": "code",
   "execution_count": null,
   "id": "2b5615b5",
   "metadata": {},
   "outputs": [],
   "source": [
    "while True:\n",
    "    try:\n",
    "        image.seek(frame)\n",
    "        disp.display(image.resize((width, height)))\n",
    "        frame += 1\n",
    "        time.sleep(0.00)\n",
    "    except EOFError:\n",
    "        frame = 0"
   ]
  }
 ],
 "metadata": {
  "kernelspec": {
   "display_name": "Python 3",
   "language": "python",
   "name": "python3"
  },
  "language_info": {
   "codemirror_mode": {
    "name": "ipython",
    "version": 3
   },
   "file_extension": ".py",
   "mimetype": "text/x-python",
   "name": "python",
   "nbconvert_exporter": "python",
   "pygments_lexer": "ipython3",
   "version": "3.7.3"
  }
 },
 "nbformat": 4,
 "nbformat_minor": 5
}
