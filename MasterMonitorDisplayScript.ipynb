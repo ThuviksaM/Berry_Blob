{
 "cells": [
  {
   "cell_type": "markdown",
   "id": "3ab6deea",
   "metadata": {},
   "source": [
    "# MasterMonitor Display Script"
   ]
  },
  {
   "cell_type": "markdown",
   "id": "101f4c05",
   "metadata": {},
   "source": [
    "##   GIF Display"
   ]
  },
  {
   "cell_type": "markdown",
   "id": "e51e539e",
   "metadata": {},
   "source": [
    "###      Imports"
   ]
  },
  {
   "cell_type": "code",
   "execution_count": 1,
   "id": "da35ae6f",
   "metadata": {},
   "outputs": [],
   "source": [
    "from PIL import Image\n",
    "from PIL import ImageDraw\n",
    "from PIL import ImageFont\n",
    "import time\n",
    "\n",
    "import ST7735"
   ]
  },
  {
   "cell_type": "markdown",
   "id": "1e733f14",
   "metadata": {},
   "source": [
    "###      Name Of The GIF File"
   ]
  },
  {
   "cell_type": "code",
   "execution_count": 2,
   "id": "5881470f",
   "metadata": {},
   "outputs": [],
   "source": [
    "#It Needs To Be In The Same Folder As Your Notebook\n",
    "\n",
    "image_file = \"party_blob.gif\""
   ]
  },
  {
   "cell_type": "markdown",
   "id": "8687e093",
   "metadata": {},
   "source": [
    "###      Setting Up The Display Class"
   ]
  },
  {
   "cell_type": "code",
   "execution_count": 3,
   "id": "61529412",
   "metadata": {},
   "outputs": [],
   "source": [
    "#Do Not Worry About The Details Here :)\n",
    "\n",
    "disp = ST7735.ST7735(port=0,cs=1,dc=9,backlight=12,rotation=270,spi_speed_hz=10000000)"
   ]
  },
  {
   "cell_type": "markdown",
   "id": "62bcc33b",
   "metadata": {},
   "source": [
    "###      Initialize Display"
   ]
  },
  {
   "cell_type": "code",
   "execution_count": 4,
   "id": "b7534f8e",
   "metadata": {},
   "outputs": [],
   "source": [
    "disp.begin()\n",
    "\n",
    "width = disp.width\n",
    "height = disp.height"
   ]
  },
  {
   "cell_type": "markdown",
   "id": "0238c247",
   "metadata": {},
   "source": [
    "###      Load GIF File"
   ]
  },
  {
   "cell_type": "code",
   "execution_count": 5,
   "id": "0ffb030d",
   "metadata": {},
   "outputs": [
    {
     "name": "stdout",
     "output_type": "stream",
     "text": [
      "Party_Blob is SO cute!!!\n",
      "Drawing GIF, Stop This Cell To Exit!\n"
     ]
    }
   ],
   "source": [
    "image = Image.open(image_file)\n",
    "print(\"Party_Blob is SO cute!!!\")\n",
    "print(\"Drawing GIF, Stop This Cell To Exit!\")\n",
    "\n",
    "frame = 0"
   ]
  },
  {
   "cell_type": "markdown",
   "id": "4b6c14d9",
   "metadata": {},
   "source": [
    "###      Loop"
   ]
  },
  {
   "cell_type": "code",
   "execution_count": null,
   "id": "3d078eff",
   "metadata": {},
   "outputs": [],
   "source": [
    "while True:\n",
    "    try:\n",
    "        image.seek(frame)\n",
    "        disp.display(image.resize((width, height)))\n",
    "        frame += 1\n",
    "        time.sleep(0.00)\n",
    "    except EOFError:\n",
    "        frame = 0"
   ]
  }
 ],
 "metadata": {
  "kernelspec": {
   "display_name": "Python 3",
   "language": "python",
   "name": "python3"
  },
  "language_info": {
   "codemirror_mode": {
    "name": "ipython",
    "version": 3
   },
   "file_extension": ".py",
   "mimetype": "text/x-python",
   "name": "python",
   "nbconvert_exporter": "python",
   "pygments_lexer": "ipython3",
   "version": "3.7.3"
  }
 },
 "nbformat": 4,
 "nbformat_minor": 5
}
