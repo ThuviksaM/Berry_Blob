{
 "cells": [
  {
   "cell_type": "markdown",
   "id": "7ab5bfda",
   "metadata": {},
   "source": [
    "# MasterMonitor Display"
   ]
  },
  {
   "cell_type": "markdown",
   "id": "bd10213a",
   "metadata": {},
   "source": [
    "## GIF Display"
   ]
  },
  {
   "cell_type": "markdown",
   "id": "7dff5ddc",
   "metadata": {},
   "source": [
    "### Imports"
   ]
  },
  {
   "cell_type": "code",
   "execution_count": 1,
   "id": "7e56eb3f",
   "metadata": {},
   "outputs": [],
   "source": [
    "from PIL import Image\n",
    "from PIL import ImageDraw\n",
    "from PIL import ImageFont\n",
    "import time\n",
    "\n",
    "import ST7735"
   ]
  },
  {
   "cell_type": "markdown",
   "id": "2d8076f4",
   "metadata": {},
   "source": [
    "###  Name Of The GIF File"
   ]
  },
  {
   "cell_type": "code",
   "execution_count": 2,
   "id": "652db8cd",
   "metadata": {},
   "outputs": [],
   "source": [
    "#It Needs To Be In The Same Folder As Your Notebook\n",
    "\n",
    "image_file = \"party_blob.gif\""
   ]
  },
  {
   "cell_type": "markdown",
   "id": "23d3b9f5",
   "metadata": {},
   "source": [
    "### Setting Up The Display Class"
   ]
  },
  {
   "cell_type": "code",
   "execution_count": 3,
   "id": "fdad78db",
   "metadata": {},
   "outputs": [],
   "source": [
    "#Do Not Worry About The Details Here :)\n",
    "\n",
    "disp = ST7735.ST7735(port=0,cs=1,dc=9,backlight=12,rotation=270,spi_speed_hz=10000000)"
   ]
  },
  {
   "cell_type": "markdown",
   "id": "7945c572",
   "metadata": {},
   "source": [
    "### Initialize Display"
   ]
  },
  {
   "cell_type": "code",
   "execution_count": 4,
   "id": "dddf9a0a",
   "metadata": {},
   "outputs": [],
   "source": [
    "disp.begin()\n",
    "\n",
    "width = disp.width\n",
    "height = disp.height"
   ]
  },
  {
   "cell_type": "markdown",
   "id": "ccd62e79",
   "metadata": {},
   "source": [
    "### Load GIF File"
   ]
  },
  {
   "cell_type": "code",
   "execution_count": 5,
   "id": "ac4dcecf",
   "metadata": {},
   "outputs": [
    {
     "name": "stdout",
     "output_type": "stream",
     "text": [
      "Party_Blob is SO cute!!!\n",
      "Drawing GIF, Stop This Cell To Exit!\n"
     ]
    }
   ],
   "source": [
    "image = Image.open(image_file)\n",
    "print(\"Party_Blob is SO cute!!!\")\n",
    "print(\"Drawing GIF, Stop This Cell To Exit!\")\n",
    "\n",
    "frame = 0"
   ]
  },
  {
   "cell_type": "markdown",
   "id": "5b9c754f",
   "metadata": {},
   "source": [
    "### Loop"
   ]
  },
  {
   "cell_type": "code",
   "execution_count": null,
   "id": "dc17d18d",
   "metadata": {},
   "outputs": [],
   "source": [
    "        while True:\n",
    "            try:\n",
    "                image.seek(frame)\n",
    "                disp.display(image.resize((width, height)))\n",
    "                frame += 1\n",
    "                time.sleep(0.00)\n",
    "            except EOFError:\n",
    "                frame = 0"
   ]
  }
 ],
 "metadata": {
  "kernelspec": {
   "display_name": "Python 3",
   "language": "python",
   "name": "python3"
  },
  "language_info": {
   "codemirror_mode": {
    "name": "ipython",
    "version": 3
   },
   "file_extension": ".py",
   "mimetype": "text/x-python",
   "name": "python",
   "nbconvert_exporter": "python",
   "pygments_lexer": "ipython3",
   "version": "3.7.3"
  }
 },
 "nbformat": 4,
 "nbformat_minor": 5
}
