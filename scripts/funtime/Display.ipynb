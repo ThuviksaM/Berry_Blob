{
 "cells": [
  {
   "cell_type": "code",
   "execution_count": 1,
   "id": "b279cb6e",
   "metadata": {},
   "outputs": [],
   "source": [
    "from PIL import Image\n",
    "from PIL import ImageDraw\n",
    "from PIL import ImageFont\n",
    "import time\n",
    "\n",
    "import ST7735"
   ]
  },
  {
   "cell_type": "code",
   "execution_count": 2,
   "id": "80f13064",
   "metadata": {},
   "outputs": [],
   "source": [
    "disp = ST7735.ST7735(port=0,cs=1,dc=9,backlight=12,rotation=270,spi_speed_hz=10000000)"
   ]
  },
  {
   "cell_type": "code",
   "execution_count": 3,
   "id": "e768a0f6",
   "metadata": {},
   "outputs": [],
   "source": [
    "message = \"ORCSGirls are super cool !!\""
   ]
  },
  {
   "cell_type": "code",
   "execution_count": 4,
   "id": "813b3c5f",
   "metadata": {},
   "outputs": [],
   "source": [
    "disp.begin()\n",
    "\n",
    "img = Image.new('RGB', (160, 80), color=(0, 0, 0))\n",
    "draw = ImageDraw.Draw(img)\n",
    "\n",
    "font = ImageFont.truetype(\"/usr/share/fonts/truetype/dejavu/DejaVuSans-Bold.ttf\", 30)\n",
    "size_x, size_y = draw.textsize(message, font)\n",
    "\n",
    "text_x = 160\n",
    "text_y = (80 - size_y) // 2\n",
    "\n",
    "t_start = time.time()"
   ]
  },
  {
   "cell_type": "code",
   "execution_count": null,
   "id": "029d62f6",
   "metadata": {},
   "outputs": [],
   "source": [
    "while True:\n",
    "    x = (time.time() - t_start) * 50\n",
    "    x %= (size_x + 160)\n",
    "    draw.rectangle((0, 0, 160, 80), (0, 0, 0))\n",
    "    draw.text((int(text_x - x), text_y), message, font=font, fill=(255, 255, 255))\n",
    "    disp.display(img)"
   ]
  },
  {
   "cell_type": "code",
   "execution_count": null,
   "id": "fb4ac585",
   "metadata": {},
   "outputs": [],
   "source": []
  }
 ],
 "metadata": {
  "kernelspec": {
   "display_name": "Python 3",
   "language": "python",
   "name": "python3"
  },
  "language_info": {
   "codemirror_mode": {
    "name": "ipython",
    "version": 3
   },
   "file_extension": ".py",
   "mimetype": "text/x-python",
   "name": "python",
   "nbconvert_exporter": "python",
   "pygments_lexer": "ipython3",
   "version": "3.7.3"
  }
 },
 "nbformat": 4,
 "nbformat_minor": 5
}
