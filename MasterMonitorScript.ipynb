{
 "cells": [
  {
   "cell_type": "markdown",
   "id": "f89e088d",
   "metadata": {},
   "source": [
    "# My Master-Script"
   ]
  },
  {
   "cell_type": "code",
   "execution_count": 1,
   "id": "f9591d47",
   "metadata": {},
   "outputs": [
    {
     "ename": "ModuleNotFoundError",
     "evalue": "No module named 'AdaFruitIOLoginCredentials'",
     "output_type": "error",
     "traceback": [
      "\u001b[0;31m---------------------------------------------------------------------------\u001b[0m",
      "\u001b[0;31mModuleNotFoundError\u001b[0m                       Traceback (most recent call last)",
      "\u001b[0;32m<ipython-input-1-07f4a85c355d>\u001b[0m in \u001b[0;36m<module>\u001b[0;34m\u001b[0m\n\u001b[1;32m     41\u001b[0m         \u001b[0;32mreturn\u001b[0m \u001b[0mmod\u001b[0m\u001b[0;34m\u001b[0m\u001b[0;34m\u001b[0m\u001b[0m\n\u001b[1;32m     42\u001b[0m \u001b[0;34m\u001b[0m\u001b[0m\n\u001b[0;32m---> 43\u001b[0;31m \u001b[0;32mimport\u001b[0m \u001b[0mAdaFruitIOLoginCredentials\u001b[0m\u001b[0;34m\u001b[0m\u001b[0;34m\u001b[0m\u001b[0m\n\u001b[0m",
      "\u001b[0;31mModuleNotFoundError\u001b[0m: No module named 'AdaFruitIOLoginCredentials'"
     ]
    }
   ],
   "source": [
    "import"
   ]
  },
  {
   "cell_type": "code",
   "execution_count": null,
   "id": "4f836424",
   "metadata": {},
   "outputs": [],
   "source": [
    "#Coordinates\n",
    "metadata = {'lat': 36.017433,\n",
    "           'lon': -84.239815,\n",
    "           'ele': 0,\n",
    "           'created_at': None}"
   ]
  },
  {
   "cell_type": "code",
   "execution_count": null,
   "id": "826a4bc1",
   "metadata": {},
   "outputs": [],
   "source": [
    "#External Temperature reading\n",
    "import smbus\n",
    "\n",
    "def readTemp():\n",
    "    address = 0x48\n",
    "    bus = smbus.SMBus(1)\n",
    "    raw = bus.read_word_data(address, 0) & 0xFFFF\n",
    "    raw = ((raw << 8) & 0xFF00) + (raw >> 8)\n",
    "    temperature = (raw / 32.0) / 8.0\n",
    "    return temperature"
   ]
  },
  {
   "cell_type": "code",
   "execution_count": null,
   "id": "39c685a6",
   "metadata": {
    "scrolled": true
   },
   "outputs": [],
   "source": [
    "#Main Loop\n",
    "from bme280 import BME280\n",
    "import ST7735\n",
    "from enviroplus.noise import Noise\n",
    "from ltr559 import LTR559\n",
    "import time\n",
    "\n",
    "from IPython.display import clear_output\n",
    "import busio\n",
    "import board\n",
    "import adafruit_ccs811\n",
    "\n",
    "from IPython.display import clear_output\n",
    "from board import *\n",
    "\n",
    "soundFeed = aio.feeds(\"sound\")\n",
    "luxFeed = aio.feeds(\"light\")\n",
    "intTempCfeed = aio.feeds(\"inttempc\")\n",
    "intTempFfeed = aio.feeds(\"inttempf\")\n",
    "extemp2Feed = aio.feeds(\"extemp2\")\n",
    "extempFeed = aio.feeds(\"extemp\")\n",
    "humidFeed = aio.feeds(\"humidity\")\n",
    "pressFeed = aio.feeds(\"pressure\")\n",
    "tvocsFeed = aio.feeds(\"new-sensor.tvocs\")\n",
    "co2Feed = aio.feeds(\"new-sensor.co2\")\n",
    "\n",
    "range=[(100, 1200)]\n",
    "\n",
    "noise = Noise()\n",
    "ltr559 = LTR559()\n",
    "bme280 = BME280()\n",
    "i2c = board.I2C()\n",
    "ccs =  adafruit_ccs811.CCS811(i2c)\n",
    "\n",
    "Amps = noise.get_amplitudes_at_frequency_ranges(range)\n",
    "Light = ltr559.get_lux()\n",
    "External = readTemp()\n",
    "External2 = External * 1.8 + 32\n",
    "Celcius = bme280.get_temperature()\n",
    "Fahrenheit = Celcius * 1.8 + 32\n",
    "InternalC = Celcius - External\n",
    "InternalF = Fahrenheit - External2\n",
    "Humidity = bme280.get_humidity()\n",
    "Pressure = bme280.get_pressure()\n",
    "CO2 = ccs.eco2\n",
    "TVOC = ccs.tvoc\n",
    "\n",
    "time_calculation = time.time()\n",
    "aio.send_data(co2Feed.key, CO2, metadata)\n",
    "aio.send_data(tvocsFeed.key, TVOC, metadata)\n",
    "aio.send_data(soundFeed.key, Amps[0], metadata)\n",
    "aio.send_data(luxFeed.key, Light, metadata)\n",
    "aio.send_data(intTempCfeed.key, InternalC, metadata)\n",
    "aio.send_data(intTempFfeed.key, InternalF, metadata)\n",
    "aio.send_data(extemp2Feed.key, External2, metadata)\n",
    "aio.send_data(extempFeed.key, External, metadata)\n",
    "aio.send_data(humidFeed.key, Humidity, metadata)\n",
    "aio.send_data(pressFeed.key, Pressure, metadata)\n",
    "time_elapsed = time.time() - time_calculation\n",
    "\n",
    "while True:\n",
    "    try:\n",
    "        Amps = noise.get_amplitudes_at_frequency_ranges(range)\n",
    "        Light = ltr559.get_lux()\n",
    "        External = readTemp()\n",
    "        External2 = External * 1.8 + 32\n",
    "        InternalC = Celcius - External\n",
    "        InternalF = Fahrenheit - External2\n",
    "        Humidity = bme280.get_humidity()\n",
    "        Pressure = bme280.get_pressure()\n",
    "        CO2 = ccs.eco2\n",
    "        TVOCs = ccs.tvoc\n",
    "        output = \"Temperature: External: {0:.2f} C, External: {1:.2f} F, Internal: {2:.2f} C, Internal: {3:.2f} F, - Humidity: {4:.2f} % - Pressure: {5:.2f} hPa, - CO2: {6:.2f} ppm, - TVOCs: {7:.2f} ppb\".format(External, External2, InternalC, InternalF, Humidity, Pressure, CO2, TVOCs)\n",
    "        print(output)\n",
    "        time.sleep(5)\n",
    "        clear_output()\n",
    "        time_elapsed = time.time() - time_calculation\n",
    "        if time_elapsed == 30:\n",
    "            time_calculation = time.time()\n",
    "            aio.send_data(co2Feed.key, CO2, metadata)\n",
    "            aio.send_data(tvocsFeed.key, TVOC, metadata)\n",
    "            aio.send_data(soundFeed.key, Amps[0], metadata)\n",
    "            aio.send_data(luxFeed.key, Light, metadata)\n",
    "            aio.send_data(intTempCfeed.key, InternalC, metadata)\n",
    "            aio.send_data(intTempFfeed.key, InternalF, metadata)\n",
    "            aio.send_data(extemp2Feed.key, External2, metadata)\n",
    "            aio.send_data(extempFeed.key, External, metadata)\n",
    "            aio.send_data(humidFeed.key, Humidity, metadata)\n",
    "            aio.send_data(pressFeed.key, Pressure, metadata)\n",
    "            print(\"Sending Data to the AdaFruit Cloud......\")\n",
    "    except IOError:\n",
    "        pass\n",
    "    except KeyboardInterrupt:\n",
    "        print(\"Loop Terminated by User\")\n",
    "    except RuntimeError:\n",
    "        print(\"Not Good\")"
   ]
  },
  {
   "cell_type": "code",
   "execution_count": null,
   "id": "d548f255",
   "metadata": {},
   "outputs": [],
   "source": []
  }
 ],
 "metadata": {
  "kernelspec": {
   "display_name": "Python 3",
   "language": "python",
   "name": "python3"
  },
  "language_info": {
   "codemirror_mode": {
    "name": "ipython",
    "version": 3
   },
   "file_extension": ".py",
   "mimetype": "text/x-python",
   "name": "python",
   "nbconvert_exporter": "python",
   "pygments_lexer": "ipython3",
   "version": "3.7.3"
  }
 },
 "nbformat": 4,
 "nbformat_minor": 5
}
