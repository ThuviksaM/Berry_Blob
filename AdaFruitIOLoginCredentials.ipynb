{
 "cells": [
  {
   "cell_type": "code",
   "execution_count": 1,
   "id": "b38a5ad6",
   "metadata": {},
   "outputs": [],
   "source": [
    "#Adafruit_IO setup\n",
    "from Adafruit_IO import Client, Feed, RequestError\n",
    "\n",
    "ADAFRUIT_IO_USERNAME = \"Thuviksa\"\n",
    "ADAFRUIT_IO_KEY = \"aio_wNTx33Kk3vZccNMqPeCOSWpwIJGS\"\n",
    "aio = Client(ADAFRUIT_IO_USERNAME, ADAFRUIT_IO_KEY)"
   ]
  }
 ],
 "metadata": {
  "kernelspec": {
   "display_name": "Python 3",
   "language": "python",
   "name": "python3"
  },
  "language_info": {
   "codemirror_mode": {
    "name": "ipython",
    "version": 3
   },
   "file_extension": ".py",
   "mimetype": "text/x-python",
   "name": "python",
   "nbconvert_exporter": "python",
   "pygments_lexer": "ipython3",
   "version": "3.7.3"
  }
 },
 "nbformat": 4,
 "nbformat_minor": 5
}
