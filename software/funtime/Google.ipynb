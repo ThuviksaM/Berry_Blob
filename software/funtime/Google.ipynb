{
 "cells": [
  {
   "cell_type": "code",
   "execution_count": 2,
   "id": "e7dfe039",
   "metadata": {},
   "outputs": [],
   "source": [
    "import gspread\n",
    "from oauth2client.service_account import ServiceAccountCredentials\n",
    "\n",
    "sheet_name = \"enviro-pi_log\"   # Make sure this matches your Google sheet name\n",
    "\n",
    "# Use creds to create a client to interact with the Google Drive API\n",
    "scopes = [\"https://www.googleapis.com/auth/drive\", \"https://www.googleapis.com/auth/drive.file\", \n",
    "          \"https://www.googleapis.com/auth/spreadsheets\"]\n",
    "creds = ServiceAccountCredentials.from_json_keyfile_name('client_secret.json', scopes)\n",
    "client = gspread.authorize(creds)\n",
    "\n",
    "# Find the workbook by name and open the first sheet\n",
    "sheet = client.open(sheet_name).sheet1"
   ]
  },
  {
   "cell_type": "code",
   "execution_count": 3,
   "id": "25c3534c",
   "metadata": {},
   "outputs": [
    {
     "data": {
      "text/plain": [
       "{'spreadsheetId': '1Noxj5kNZ2Pgq5I3nHu0Pa6ROJ5zKGDr2ApzzpryYxI4',\n",
       " 'updates': {'spreadsheetId': '1Noxj5kNZ2Pgq5I3nHu0Pa6ROJ5zKGDr2ApzzpryYxI4',\n",
       "  'updatedRange': 'Sheet1!A1:D1',\n",
       "  'updatedRows': 1,\n",
       "  'updatedColumns': 4,\n",
       "  'updatedCells': 4}}"
      ]
     },
     "execution_count": 3,
     "metadata": {},
     "output_type": "execute_result"
    }
   ],
   "source": [
    "# We need to provide the data for a row as a Python list\n"
   ]
  }
 ],
 "metadata": {
  "kernelspec": {
   "display_name": "Python 3",
   "language": "python",
   "name": "python3"
  },
  "language_info": {
   "codemirror_mode": {
    "name": "ipython",
    "version": 3
   },
   "file_extension": ".py",
   "mimetype": "text/x-python",
   "name": "python",
   "nbconvert_exporter": "python",
   "pygments_lexer": "ipython3",
   "version": "3.7.3"
  }
 },
 "nbformat": 4,
 "nbformat_minor": 5
}
