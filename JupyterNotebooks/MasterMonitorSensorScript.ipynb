{
 "cells": [
  {
   "cell_type": "markdown",
   "id": "f89e088d",
   "metadata": {},
   "source": [
    "# MasterMonitor Sensor Script"
   ]
  },
  {
   "cell_type": "markdown",
   "id": "712deb22",
   "metadata": {},
   "source": [
    "## AdaFruit IO Setup"
   ]
  },
  {
   "cell_type": "code",
   "execution_count": 1,
   "id": "f9591d47",
   "metadata": {},
   "outputs": [],
   "source": [
    "from Adafruit_IO import Client, Feed, RequestError\n",
    "from dotenv import load_dotenv\n",
    "import os\n",
    "\n",
    "load_dotenv()\n",
    "\n",
    "AdaFruitIO_Username = os.environ.get(\"ADAFRUIT_IO_USERNAME\")\n",
    "AdaFruitIO_Key = os.environ.get(\"ADAFRUIT_IO_KEY\")\n",
    "\n",
    "aio = Client(AdaFruitIO_Username, AdaFruitIO_Key)"
   ]
  },
  {
   "cell_type": "markdown",
   "id": "058a342e",
   "metadata": {},
   "source": [
    "## Metadata (location coordinates)"
   ]
  },
  {
   "cell_type": "code",
   "execution_count": 2,
   "id": "c85b5037",
   "metadata": {},
   "outputs": [],
   "source": [
    "metadata = {'lat': 36.017433,\n",
    "           'lon': -84.239815,\n",
    "           'ele': 0,\n",
    "           'created_at': None}"
   ]
  },
  {
   "cell_type": "markdown",
   "id": "99d2e505",
   "metadata": {},
   "source": [
    "## External Temperature Sensor"
   ]
  },
  {
   "cell_type": "markdown",
   "id": "1c953130",
   "metadata": {},
   "source": [
    "### Imports"
   ]
  },
  {
   "cell_type": "code",
   "execution_count": 3,
   "id": "826a4bc1",
   "metadata": {},
   "outputs": [],
   "source": [
    "import smbus"
   ]
  },
  {
   "cell_type": "markdown",
   "id": "a848d383",
   "metadata": {},
   "source": [
    "### Setup"
   ]
  },
  {
   "cell_type": "code",
   "execution_count": 4,
   "id": "caa9f734",
   "metadata": {},
   "outputs": [],
   "source": [
    "def readTemp():\n",
    "    address = 0x48\n",
    "    bus = smbus.SMBus(1)\n",
    "    raw = bus.read_word_data(address, 0) & 0xFFFF\n",
    "    raw = ((raw << 8) & 0xFF00) + (raw >> 8)\n",
    "    temperature = (raw / 32.0) / 8.0\n",
    "    return temperature"
   ]
  },
  {
   "cell_type": "markdown",
   "id": "39ff622e",
   "metadata": {},
   "source": [
    "## CCS811 CO2 and VOCs Sensor"
   ]
  },
  {
   "cell_type": "markdown",
   "id": "c2e70fa0",
   "metadata": {},
   "source": [
    "### Imports"
   ]
  },
  {
   "cell_type": "code",
   "execution_count": 5,
   "id": "926ad650",
   "metadata": {},
   "outputs": [],
   "source": [
    "import busio\n",
    "import board\n",
    "import adafruit_ccs811"
   ]
  },
  {
   "cell_type": "markdown",
   "id": "4d8471f4",
   "metadata": {},
   "source": [
    "### Setup"
   ]
  },
  {
   "cell_type": "code",
   "execution_count": 6,
   "id": "83c6c241",
   "metadata": {},
   "outputs": [
    {
     "name": "stdout",
     "output_type": "stream",
     "text": [
      "CCS811 Sensor ready.\n"
     ]
    }
   ],
   "source": [
    "i2c = board.I2C()\n",
    "ccs =  adafruit_ccs811.CCS811(i2c)\n",
    "\n",
    "while (not ccs.data_ready):\n",
    "    pass\n",
    "\n",
    "print (\"CCS811 Sensor ready.\")"
   ]
  },
  {
   "cell_type": "markdown",
   "id": "a2c400ea",
   "metadata": {},
   "source": [
    "## Main"
   ]
  },
  {
   "cell_type": "markdown",
   "id": "2d4c0459",
   "metadata": {},
   "source": [
    "### Imports"
   ]
  },
  {
   "cell_type": "code",
   "execution_count": 7,
   "id": "39c685a6",
   "metadata": {
    "scrolled": true
   },
   "outputs": [],
   "source": [
    "from bme280 import BME280\n",
    "import ST7735\n",
    "from enviroplus.noise import Noise\n",
    "from ltr559 import LTR559\n",
    "\n",
    "import time\n",
    "from IPython.display import clear_output\n",
    "from board import *"
   ]
  },
  {
   "cell_type": "markdown",
   "id": "ebc0372f",
   "metadata": {},
   "source": [
    "### Variables"
   ]
  },
  {
   "cell_type": "code",
   "execution_count": 8,
   "id": "c169b025",
   "metadata": {},
   "outputs": [
    {
     "ename": "OSError",
     "evalue": "[Errno 121] Remote I/O error",
     "output_type": "error",
     "traceback": [
      "\u001b[0;31m---------------------------------------------------------------------------\u001b[0m",
      "\u001b[0;31mOSError\u001b[0m                                   Traceback (most recent call last)",
      "\u001b[0;32m<ipython-input-8-191547286e0e>\u001b[0m in \u001b[0;36m<module>\u001b[0;34m\u001b[0m\n\u001b[1;32m     26\u001b[0m \u001b[0mHumidity\u001b[0m \u001b[0;34m=\u001b[0m \u001b[0mbme280\u001b[0m\u001b[0;34m.\u001b[0m\u001b[0mget_humidity\u001b[0m\u001b[0;34m(\u001b[0m\u001b[0;34m)\u001b[0m\u001b[0;34m\u001b[0m\u001b[0;34m\u001b[0m\u001b[0m\n\u001b[1;32m     27\u001b[0m \u001b[0mPressure\u001b[0m \u001b[0;34m=\u001b[0m \u001b[0mbme280\u001b[0m\u001b[0;34m.\u001b[0m\u001b[0mget_pressure\u001b[0m\u001b[0;34m(\u001b[0m\u001b[0;34m)\u001b[0m\u001b[0;34m\u001b[0m\u001b[0;34m\u001b[0m\u001b[0m\n\u001b[0;32m---> 28\u001b[0;31m \u001b[0mCO2\u001b[0m \u001b[0;34m=\u001b[0m \u001b[0mccs\u001b[0m\u001b[0;34m.\u001b[0m\u001b[0meco2\u001b[0m\u001b[0;34m\u001b[0m\u001b[0;34m\u001b[0m\u001b[0m\n\u001b[0m\u001b[1;32m     29\u001b[0m \u001b[0mTVOC\u001b[0m \u001b[0;34m=\u001b[0m \u001b[0mccs\u001b[0m\u001b[0;34m.\u001b[0m\u001b[0mtvoc\u001b[0m\u001b[0;34m\u001b[0m\u001b[0;34m\u001b[0m\u001b[0m\n\u001b[1;32m     30\u001b[0m \u001b[0;34m\u001b[0m\u001b[0m\n",
      "\u001b[0;32m~/.local/lib/python3.7/site-packages/adafruit_ccs811.py\u001b[0m in \u001b[0;36meco2\u001b[0;34m(self)\u001b[0m\n\u001b[1;32m    213\u001b[0m     \u001b[0;32mdef\u001b[0m \u001b[0meco2\u001b[0m\u001b[0;34m(\u001b[0m\u001b[0mself\u001b[0m\u001b[0;34m)\u001b[0m\u001b[0;34m:\u001b[0m  \u001b[0;31m# pylint: disable=invalid-name\u001b[0m\u001b[0;34m\u001b[0m\u001b[0;34m\u001b[0m\u001b[0m\n\u001b[1;32m    214\u001b[0m         \u001b[0;34m\"\"\"Equivalent Carbon Dioxide in parts per million. Clipped to 400 to 8192ppm.\"\"\"\u001b[0m\u001b[0;34m\u001b[0m\u001b[0;34m\u001b[0m\u001b[0m\n\u001b[0;32m--> 215\u001b[0;31m         \u001b[0mself\u001b[0m\u001b[0;34m.\u001b[0m\u001b[0m_update_data\u001b[0m\u001b[0;34m(\u001b[0m\u001b[0;34m)\u001b[0m\u001b[0;34m\u001b[0m\u001b[0;34m\u001b[0m\u001b[0m\n\u001b[0m\u001b[1;32m    216\u001b[0m         \u001b[0;32mreturn\u001b[0m \u001b[0mself\u001b[0m\u001b[0;34m.\u001b[0m\u001b[0m_eco2\u001b[0m\u001b[0;34m\u001b[0m\u001b[0;34m\u001b[0m\u001b[0m\n\u001b[1;32m    217\u001b[0m \u001b[0;34m\u001b[0m\u001b[0m\n",
      "\u001b[0;32m~/.local/lib/python3.7/site-packages/adafruit_ccs811.py\u001b[0m in \u001b[0;36m_update_data\u001b[0;34m(self)\u001b[0m\n\u001b[1;32m    170\u001b[0m             \u001b[0mbuf\u001b[0m\u001b[0;34m[\u001b[0m\u001b[0;36m0\u001b[0m\u001b[0;34m]\u001b[0m \u001b[0;34m=\u001b[0m \u001b[0m_ALG_RESULT_DATA\u001b[0m\u001b[0;34m\u001b[0m\u001b[0;34m\u001b[0m\u001b[0m\n\u001b[1;32m    171\u001b[0m             \u001b[0;32mwith\u001b[0m \u001b[0mself\u001b[0m\u001b[0;34m.\u001b[0m\u001b[0mi2c_device\u001b[0m \u001b[0;32mas\u001b[0m \u001b[0mi2c\u001b[0m\u001b[0;34m:\u001b[0m\u001b[0;34m\u001b[0m\u001b[0;34m\u001b[0m\u001b[0m\n\u001b[0;32m--> 172\u001b[0;31m                 \u001b[0mi2c\u001b[0m\u001b[0;34m.\u001b[0m\u001b[0mwrite_then_readinto\u001b[0m\u001b[0;34m(\u001b[0m\u001b[0mbuf\u001b[0m\u001b[0;34m,\u001b[0m \u001b[0mbuf\u001b[0m\u001b[0;34m,\u001b[0m \u001b[0mout_end\u001b[0m\u001b[0;34m=\u001b[0m\u001b[0;36m1\u001b[0m\u001b[0;34m,\u001b[0m \u001b[0min_start\u001b[0m\u001b[0;34m=\u001b[0m\u001b[0;36m1\u001b[0m\u001b[0;34m)\u001b[0m\u001b[0;34m\u001b[0m\u001b[0;34m\u001b[0m\u001b[0m\n\u001b[0m\u001b[1;32m    173\u001b[0m \u001b[0;34m\u001b[0m\u001b[0m\n\u001b[1;32m    174\u001b[0m             \u001b[0mself\u001b[0m\u001b[0;34m.\u001b[0m\u001b[0m_eco2\u001b[0m \u001b[0;34m=\u001b[0m \u001b[0;34m(\u001b[0m\u001b[0mbuf\u001b[0m\u001b[0;34m[\u001b[0m\u001b[0;36m1\u001b[0m\u001b[0;34m]\u001b[0m \u001b[0;34m<<\u001b[0m \u001b[0;36m8\u001b[0m\u001b[0;34m)\u001b[0m \u001b[0;34m|\u001b[0m \u001b[0;34m(\u001b[0m\u001b[0mbuf\u001b[0m\u001b[0;34m[\u001b[0m\u001b[0;36m2\u001b[0m\u001b[0;34m]\u001b[0m\u001b[0;34m)\u001b[0m\u001b[0;34m\u001b[0m\u001b[0;34m\u001b[0m\u001b[0m\n",
      "\u001b[0;32m~/.local/lib/python3.7/site-packages/adafruit_bus_device/i2c_device.py\u001b[0m in \u001b[0;36mwrite_then_readinto\u001b[0;34m(self, out_buffer, in_buffer, out_start, out_end, in_start, in_end)\u001b[0m\n\u001b[1;32m    129\u001b[0m             \u001b[0mout_end\u001b[0m\u001b[0;34m=\u001b[0m\u001b[0mout_end\u001b[0m\u001b[0;34m,\u001b[0m\u001b[0;34m\u001b[0m\u001b[0;34m\u001b[0m\u001b[0m\n\u001b[1;32m    130\u001b[0m             \u001b[0min_start\u001b[0m\u001b[0;34m=\u001b[0m\u001b[0min_start\u001b[0m\u001b[0;34m,\u001b[0m\u001b[0;34m\u001b[0m\u001b[0;34m\u001b[0m\u001b[0m\n\u001b[0;32m--> 131\u001b[0;31m             \u001b[0min_end\u001b[0m\u001b[0;34m=\u001b[0m\u001b[0min_end\u001b[0m\u001b[0;34m,\u001b[0m\u001b[0;34m\u001b[0m\u001b[0;34m\u001b[0m\u001b[0m\n\u001b[0m\u001b[1;32m    132\u001b[0m         )\n\u001b[1;32m    133\u001b[0m \u001b[0;34m\u001b[0m\u001b[0m\n",
      "\u001b[0;32m~/.local/lib/python3.7/site-packages/busio.py\u001b[0m in \u001b[0;36mwriteto_then_readfrom\u001b[0;34m(self, address, buffer_out, buffer_in, out_start, out_end, in_start, in_end, stop)\u001b[0m\n\u001b[1;32m    182\u001b[0m             \u001b[0min_start\u001b[0m\u001b[0;34m=\u001b[0m\u001b[0min_start\u001b[0m\u001b[0;34m,\u001b[0m\u001b[0;34m\u001b[0m\u001b[0;34m\u001b[0m\u001b[0m\n\u001b[1;32m    183\u001b[0m             \u001b[0min_end\u001b[0m\u001b[0;34m=\u001b[0m\u001b[0min_end\u001b[0m\u001b[0;34m,\u001b[0m\u001b[0;34m\u001b[0m\u001b[0;34m\u001b[0m\u001b[0m\n\u001b[0;32m--> 184\u001b[0;31m             \u001b[0mstop\u001b[0m\u001b[0;34m=\u001b[0m\u001b[0mstop\u001b[0m\u001b[0;34m,\u001b[0m\u001b[0;34m\u001b[0m\u001b[0;34m\u001b[0m\u001b[0m\n\u001b[0m\u001b[1;32m    185\u001b[0m         )\n\u001b[1;32m    186\u001b[0m \u001b[0;34m\u001b[0m\u001b[0m\n",
      "\u001b[0;32m~/.local/lib/python3.7/site-packages/adafruit_blinka/microcontroller/generic_linux/i2c.py\u001b[0m in \u001b[0;36mwriteto_then_readfrom\u001b[0;34m(self, address, buffer_out, buffer_in, out_start, out_end, in_start, in_end, stop)\u001b[0m\n\u001b[1;32m     86\u001b[0m             \u001b[0;31m# To generate without a stop, do in one block transaction\u001b[0m\u001b[0;34m\u001b[0m\u001b[0;34m\u001b[0m\u001b[0;34m\u001b[0m\u001b[0m\n\u001b[1;32m     87\u001b[0m             readin = self._i2c_bus.read_i2c_block_data(\n\u001b[0;32m---> 88\u001b[0;31m                 \u001b[0maddress\u001b[0m\u001b[0;34m,\u001b[0m \u001b[0mbuffer_out\u001b[0m\u001b[0;34m[\u001b[0m\u001b[0mout_start\u001b[0m\u001b[0;34m:\u001b[0m\u001b[0mout_end\u001b[0m\u001b[0;34m]\u001b[0m\u001b[0;34m,\u001b[0m \u001b[0min_end\u001b[0m \u001b[0;34m-\u001b[0m \u001b[0min_start\u001b[0m\u001b[0;34m\u001b[0m\u001b[0;34m\u001b[0m\u001b[0m\n\u001b[0m\u001b[1;32m     89\u001b[0m             )\n\u001b[1;32m     90\u001b[0m             \u001b[0;32mfor\u001b[0m \u001b[0mi\u001b[0m \u001b[0;32min\u001b[0m \u001b[0mrange\u001b[0m\u001b[0;34m(\u001b[0m\u001b[0min_end\u001b[0m \u001b[0;34m-\u001b[0m \u001b[0min_start\u001b[0m\u001b[0;34m)\u001b[0m\u001b[0;34m:\u001b[0m\u001b[0;34m\u001b[0m\u001b[0;34m\u001b[0m\u001b[0m\n",
      "\u001b[0;32m~/.local/lib/python3.7/site-packages/Adafruit_PureIO/smbus.py\u001b[0m in \u001b[0;36mread_i2c_block_data\u001b[0;34m(self, addr, cmd, length)\u001b[0m\n\u001b[1;32m    273\u001b[0m \u001b[0;34m\u001b[0m\u001b[0m\n\u001b[1;32m    274\u001b[0m         \u001b[0;31m# Make ioctl call and return result data.\u001b[0m\u001b[0;34m\u001b[0m\u001b[0;34m\u001b[0m\u001b[0;34m\u001b[0m\u001b[0m\n\u001b[0;32m--> 275\u001b[0;31m         \u001b[0mioctl\u001b[0m\u001b[0;34m(\u001b[0m\u001b[0mself\u001b[0m\u001b[0;34m.\u001b[0m\u001b[0m_device\u001b[0m\u001b[0;34m.\u001b[0m\u001b[0mfileno\u001b[0m\u001b[0;34m(\u001b[0m\u001b[0;34m)\u001b[0m\u001b[0;34m,\u001b[0m \u001b[0mI2C_RDWR\u001b[0m\u001b[0;34m,\u001b[0m \u001b[0mrequest\u001b[0m\u001b[0;34m)\u001b[0m\u001b[0;34m\u001b[0m\u001b[0;34m\u001b[0m\u001b[0m\n\u001b[0m\u001b[1;32m    276\u001b[0m         return bytearray(\n\u001b[1;32m    277\u001b[0m             \u001b[0mresult\u001b[0m\u001b[0;34m.\u001b[0m\u001b[0mraw\u001b[0m\u001b[0;34m\u001b[0m\u001b[0;34m\u001b[0m\u001b[0m\n",
      "\u001b[0;31mOSError\u001b[0m: [Errno 121] Remote I/O error"
     ]
    }
   ],
   "source": [
    "soundFeed = aio.feeds(\"sound\")\n",
    "luxFeed = aio.feeds(\"light\")\n",
    "intTempCfeed = aio.feeds(\"inttempc\")\n",
    "intTempFfeed = aio.feeds(\"inttempf\")\n",
    "extemp2Feed = aio.feeds(\"extemp2\")\n",
    "extempFeed = aio.feeds(\"extemp\")\n",
    "humidFeed = aio.feeds(\"humidity\")\n",
    "pressFeed = aio.feeds(\"pressure\")\n",
    "tvocsFeed = aio.feeds(\"new-sensor.tvocs\")\n",
    "co2Feed = aio.feeds(\"new-sensor.co2\")\n",
    "\n",
    "range=[(100, 1200)]\n",
    "\n",
    "noise = Noise()\n",
    "ltr559 = LTR559()\n",
    "bme280 = BME280()\n",
    "\n",
    "Amps = noise.get_amplitudes_at_frequency_ranges(range)\n",
    "Light = ltr559.get_lux()\n",
    "External = readTemp()\n",
    "External2 = External * 1.8 + 32\n",
    "Celcius = bme280.get_temperature()\n",
    "Fahrenheit = Celcius * 1.8 + 32\n",
    "InternalC = Celcius - External\n",
    "InternalF = Fahrenheit - External2\n",
    "Humidity = bme280.get_humidity()\n",
    "Pressure = bme280.get_pressure()\n",
    "CO2 = ccs.eco2\n",
    "TVOC = ccs.tvoc\n",
    "\n",
    "time_calculation = time.time()\n",
    "aio.send_data(co2Feed.key, CO2, metadata)\n",
    "aio.send_data(tvocsFeed.key, TVOC, metadata)\n",
    "aio.send_data(soundFeed.key, Amps[0], metadata)\n",
    "aio.send_data(luxFeed.key, Light, metadata)\n",
    "aio.send_data(intTempCfeed.key, InternalC, metadata)\n",
    "aio.send_data(intTempFfeed.key, InternalF, metadata)\n",
    "aio.send_data(extemp2Feed.key, External2, metadata)\n",
    "aio.send_data(extempFeed.key, External, metadata)\n",
    "aio.send_data(humidFeed.key, Humidity, metadata)\n",
    "aio.send_data(pressFeed.key, Pressure, metadata)\n",
    "time_elapsed = time.time() - time_calculation"
   ]
  },
  {
   "cell_type": "markdown",
   "id": "29f34f96",
   "metadata": {},
   "source": [
    "### Loop"
   ]
  },
  {
   "cell_type": "code",
   "execution_count": null,
   "id": "df76d497",
   "metadata": {},
   "outputs": [],
   "source": [
    "while True:\n",
    "    try:\n",
    "        Amps = noise.get_amplitudes_at_frequency_ranges(range)\n",
    "        Light = ltr559.get_lux()\n",
    "        External = readTemp()\n",
    "        External2 = External * 1.8 + 32\n",
    "        InternalC = Celcius - External\n",
    "        InternalF = Fahrenheit - External2\n",
    "        Humidity = bme280.get_humidity()\n",
    "        Pressure = bme280.get_pressure()\n",
    "        CO2 = ccs.eco2\n",
    "        TVOCs = ccs.tvoc\n",
    "        output = \"Temperature: External: {0:.2f} C, External: {1:.2f} F, Internal: {2:.2f} C, Internal: {3:.2f} F, - Humidity: {4:.2f} % - Pressure: {5:.2f} hPa, - CO2: {6:.2f} ppm, - TVOCs: {7:.2f} ppb\".format(External, External2, InternalC, InternalF, Humidity, Pressure, CO2, TVOCs)\n",
    "        print(output)\n",
    "        time.sleep(5)\n",
    "        clear_output()\n",
    "        time_elapsed = time.time() - time_calculation\n",
    "        \n",
    "        if time_elapsed == 5:\n",
    "            time_calculation = time.time()\n",
    "            aio.send_data(co2Feed.key, CO2, metadata)\n",
    "            aio.send_data(tvocsFeed.key, TVOC, metadata)\n",
    "            aio.send_data(soundFeed.key, Amps[0], metadata)\n",
    "            aio.send_data(luxFeed.key, Light, metadata)\n",
    "            aio.send_data(intTempCfeed.key, InternalC, metadata)\n",
    "            aio.send_data(intTempFfeed.key, InternalF, metadata)\n",
    "            aio.send_data(extemp2Feed.key, External2, metadata)\n",
    "            aio.send_data(extempFeed.key, External, metadata)\n",
    "            aio.send_data(humidFeed.key, Humidity, metadata)\n",
    "            aio.send_data(pressFeed.key, Pressure, metadata)\n",
    "            \n",
    "            print(\"Sending Data to the AdaFruit Cloud......\")\n",
    "\n",
    "    except IOError:\n",
    "        pass\n",
    "    \n",
    "    except KeyboardInterrupt:\n",
    "        print(\"Loop Terminated by User\")\n",
    "        \n",
    "    except RuntimeError:\n",
    "        print(\"Not Good\")"
   ]
  }
 ],
 "metadata": {
  "kernelspec": {
   "display_name": "Python 3",
   "language": "python",
   "name": "python3"
  },
  "language_info": {
   "codemirror_mode": {
    "name": "ipython",
    "version": 3
   },
   "file_extension": ".py",
   "mimetype": "text/x-python",
   "name": "python",
   "nbconvert_exporter": "python",
   "pygments_lexer": "ipython3",
   "version": "3.7.3"
  }
 },
 "nbformat": 4,
 "nbformat_minor": 5
}
