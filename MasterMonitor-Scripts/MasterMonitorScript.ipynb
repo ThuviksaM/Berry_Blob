{
 "cells": [
  {
   "cell_type": "markdown",
   "id": "f89e088d",
   "metadata": {},
   "source": [
    "# MasterMonitor Sensor Script"
   ]
  },
  {
   "cell_type": "markdown",
   "id": "712deb22",
   "metadata": {},
   "source": [
    "## AdaFruit IO"
   ]
  },
  {
   "cell_type": "markdown",
   "id": "fe747bf2",
   "metadata": {},
   "source": [
    "### Credentials"
   ]
  },
  {
   "cell_type": "code",
   "execution_count": 1,
   "id": "f9591d47",
   "metadata": {},
   "outputs": [],
   "source": [
    "from Adafruit_IO import Client, Feed, RequestError\n",
    "from dotenv import load_dotenv\n",
    "import os\n",
    "\n",
    "load_dotenv()\n",
    "\n",
    "AdaFruitIO_Username = os.environ.get(\"ADAFRUIT_IO_USERNAME\")\n",
    "AdaFruitIO_Key = os.environ.get(\"ADAFRUIT_IO_KEY\")\n",
    "\n",
    "aio = Client(AdaFruitIO_Username, AdaFruitIO_Key)"
   ]
  },
  {
   "cell_type": "markdown",
   "id": "977ecfa5",
   "metadata": {},
   "source": [
    "### Feeds"
   ]
  },
  {
   "cell_type": "code",
   "execution_count": 2,
   "id": "3812953a",
   "metadata": {},
   "outputs": [],
   "source": [
    "def getFeed(name):\n",
    "    try:\n",
    "        feedID = aio.feeds(name)\n",
    "    except RequestError:\n",
    "        feed = Feed(name=name)\n",
    "        feedID = aio.create_feed(feed)\n",
    "    return feedID\n",
    "\n",
    "soundFeed = getFeed(\"sound\")\n",
    "luxFeed = getFeed(\"light\")\n",
    "intTempFfeed = getFeed(\"inttempf\")\n",
    "extemp2Feed = getFeed(\"extemp2\")\n",
    "humidFeed = getFeed(\"humidity\")\n",
    "pressFeed = getFeed(\"pressure\")\n",
    "tvocsFeed = getFeed(\"new-sensor.tvocs\")\n",
    "co2Feed = getFeed(\"new-sensor.co2\")\n",
    "msgFeed = getFeed(\"new-sensor.messages\")"
   ]
  },
  {
   "cell_type": "markdown",
   "id": "07e31afb",
   "metadata": {},
   "source": [
    "## Google Sheets"
   ]
  },
  {
   "cell_type": "code",
   "execution_count": 3,
   "id": "06458223",
   "metadata": {},
   "outputs": [],
   "source": [
    "import gspread\n",
    "from oauth2client.service_account import ServiceAccountCredentials\n",
    "\n",
    "sheet_name = \"enviro-pi_log\"\n",
    "\n",
    "scopes = [\"https://www.googleapis.com/auth/drive\", \"https://www.googleapis.com/auth/drive.file\", \n",
    "          \"https://www.googleapis.com/auth/spreadsheets\"]\n",
    "creds = ServiceAccountCredentials.from_json_keyfile_name('client_secret.json', scopes)\n",
    "client = gspread.authorize(creds)\n",
    "\n",
    "# Find the workbook by name and open the first sheet\n",
    "sheet = client.open(sheet_name).worksheet(\"Values\")"
   ]
  },
  {
   "cell_type": "markdown",
   "id": "d92543de",
   "metadata": {},
   "source": [
    "## BME280 Sensor"
   ]
  },
  {
   "cell_type": "code",
   "execution_count": 4,
   "id": "ac55df96",
   "metadata": {},
   "outputs": [],
   "source": [
    "from bme280 import BME280\n",
    "\n",
    "bme280 = BME280()"
   ]
  },
  {
   "cell_type": "markdown",
   "id": "99d2e505",
   "metadata": {},
   "source": [
    "## External Temperature Sensor"
   ]
  },
  {
   "cell_type": "code",
   "execution_count": 5,
   "id": "caa9f734",
   "metadata": {},
   "outputs": [],
   "source": [
    "import smbus\n",
    "\n",
    "def readTemp():\n",
    "    address = 0x48\n",
    "    bus = smbus.SMBus(1)\n",
    "    raw = bus.read_word_data(address, 0) & 0xFFFF\n",
    "    raw = ((raw << 8) & 0xFF00) + (raw >> 8)\n",
    "    temperature = (raw / 32.0) / 8.0\n",
    "    return temperature"
   ]
  },
  {
   "cell_type": "markdown",
   "id": "39ff622e",
   "metadata": {},
   "source": [
    "## CCS811 Sensor"
   ]
  },
  {
   "cell_type": "code",
   "execution_count": 6,
   "id": "83c6c241",
   "metadata": {},
   "outputs": [
    {
     "name": "stdout",
     "output_type": "stream",
     "text": [
      "CCS811 Sensor ready.\n"
     ]
    }
   ],
   "source": [
    "import busio\n",
    "from board import I2C\n",
    "from adafruit_ccs811 import CCS811\n",
    "\n",
    "i2c = I2C() \n",
    "ccs = CCS811(i2c)\n",
    "\n",
    "while (not ccs.data_ready):\n",
    "    pass\n",
    "\n",
    "print (\"CCS811 Sensor ready.\")"
   ]
  },
  {
   "cell_type": "markdown",
   "id": "14be3c29",
   "metadata": {},
   "source": [
    "## Light Sensor"
   ]
  },
  {
   "cell_type": "code",
   "execution_count": 7,
   "id": "364e13f4",
   "metadata": {},
   "outputs": [],
   "source": [
    "from ltr559 import LTR559\n",
    "\n",
    "ltr559 = LTR559()"
   ]
  },
  {
   "cell_type": "markdown",
   "id": "b35af24d",
   "metadata": {},
   "source": [
    "## Noise Sensor"
   ]
  },
  {
   "cell_type": "code",
   "execution_count": 8,
   "id": "5b5c888f",
   "metadata": {},
   "outputs": [],
   "source": [
    "from enviroplus.noise import Noise\n",
    "\n",
    "noise = Noise()"
   ]
  },
  {
   "cell_type": "markdown",
   "id": "a2c400ea",
   "metadata": {},
   "source": [
    "## Main"
   ]
  },
  {
   "cell_type": "markdown",
   "id": "2d4c0459",
   "metadata": {},
   "source": [
    "### Imports"
   ]
  },
  {
   "cell_type": "code",
   "execution_count": 9,
   "id": "39c685a6",
   "metadata": {
    "scrolled": true
   },
   "outputs": [],
   "source": [
    "import ST7735\n",
    "\n",
    "import time\n",
    "from IPython.display import clear_output\n",
    "from board import *\n",
    "from datetime import datetime"
   ]
  },
  {
   "cell_type": "markdown",
   "id": "ebc0372f",
   "metadata": {},
   "source": [
    "### Variables"
   ]
  },
  {
   "cell_type": "code",
   "execution_count": 10,
   "id": "c169b025",
   "metadata": {},
   "outputs": [],
   "source": [
    "try:\n",
    "    metadata = {'lat': 36.017433,\n",
    "           'lon': -84.239815,\n",
    "           'ele': 0,\n",
    "           'created_at': None}\n",
    "    \n",
    "    update = 300\n",
    "    update_data = 60.0\n",
    "    update_msg  = 1800.0\n",
    "    update_lcd  = 3.0\n",
    "    next_lcd    = 't'\n",
    "    count = 0\n",
    "    \n",
    "    running = True\n",
    "    \n",
    "    tvoc_alert = False\n",
    "    tvoc_alert_level = 1500\n",
    "    \n",
    "    dashboard_url = \"https://io.adafruit.com/Thuviksa/dashboards/weather-monitor\"\n",
    "\n",
    "except IOError:\n",
    "    print(\"Just an IO Error, nothing to worry 😉😉😉\")\n",
    "    pass\n",
    "\n",
    "except RuntimeError:\n",
    "    print(\"Not Good 👎👎👎\")\n",
    "    pass"
   ]
  },
  {
   "cell_type": "markdown",
   "id": "29f34f96",
   "metadata": {},
   "source": [
    "### Loop"
   ]
  },
  {
   "cell_type": "code",
   "execution_count": 12,
   "id": "df76d497",
   "metadata": {},
   "outputs": [
    {
     "name": "stdout",
     "output_type": "stream",
     "text": [
      "External-Temp: 22.25 C - 72.05 FInternal-Temp: 29.39 C, 84.90 FHumidity: 53.97 % - Pressure: 985.46 hPaLight: 12.43 - Noise: 0.20 - Proximity: 0.00\n",
      "Updated:  2021-10-23 18:26:48.680677\n"
     ]
    },
    {
     "ename": "RequestError",
     "evalue": "Adafruit IO request failed: 422 Unprocessable Entity - request failed - Record invalid. Failed to save data to Thuviksa/feeds/new-sensor.tvocs, data missing required value",
     "output_type": "error",
     "traceback": [
      "\u001b[0;31m---------------------------------------------------------------------------\u001b[0m",
      "\u001b[0;31mRequestError\u001b[0m                              Traceback (most recent call last)",
      "\u001b[0;32m<ipython-input-12-19c8f9e7cf60>\u001b[0m in \u001b[0;36m<module>\u001b[0;34m\u001b[0m\n\u001b[1;32m     34\u001b[0m \u001b[0;34m\u001b[0m\u001b[0m\n\u001b[1;32m     35\u001b[0m             \u001b[0maio\u001b[0m\u001b[0;34m.\u001b[0m\u001b[0msend_data\u001b[0m\u001b[0;34m(\u001b[0m\u001b[0mco2Feed\u001b[0m\u001b[0;34m.\u001b[0m\u001b[0mkey\u001b[0m\u001b[0;34m,\u001b[0m \u001b[0mco2\u001b[0m\u001b[0;34m,\u001b[0m \u001b[0mmetadata\u001b[0m\u001b[0;34m)\u001b[0m\u001b[0;34m\u001b[0m\u001b[0;34m\u001b[0m\u001b[0m\n\u001b[0;32m---> 36\u001b[0;31m             \u001b[0maio\u001b[0m\u001b[0;34m.\u001b[0m\u001b[0msend_data\u001b[0m\u001b[0;34m(\u001b[0m\u001b[0mtvocsFeed\u001b[0m\u001b[0;34m.\u001b[0m\u001b[0mkey\u001b[0m\u001b[0;34m,\u001b[0m \u001b[0mtvocs\u001b[0m\u001b[0;34m,\u001b[0m \u001b[0mmetadata\u001b[0m\u001b[0;34m)\u001b[0m\u001b[0;34m\u001b[0m\u001b[0;34m\u001b[0m\u001b[0m\n\u001b[0m\u001b[1;32m     37\u001b[0m             \u001b[0maio\u001b[0m\u001b[0;34m.\u001b[0m\u001b[0msend_data\u001b[0m\u001b[0;34m(\u001b[0m\u001b[0msoundFeed\u001b[0m\u001b[0;34m.\u001b[0m\u001b[0mkey\u001b[0m\u001b[0;34m,\u001b[0m \u001b[0mamps\u001b[0m\u001b[0;34m[\u001b[0m\u001b[0;36m0\u001b[0m\u001b[0;34m]\u001b[0m\u001b[0;34m,\u001b[0m \u001b[0mmetadata\u001b[0m\u001b[0;34m)\u001b[0m\u001b[0;34m\u001b[0m\u001b[0;34m\u001b[0m\u001b[0m\n\u001b[1;32m     38\u001b[0m             \u001b[0maio\u001b[0m\u001b[0;34m.\u001b[0m\u001b[0msend_data\u001b[0m\u001b[0;34m(\u001b[0m\u001b[0mluxFeed\u001b[0m\u001b[0;34m.\u001b[0m\u001b[0mkey\u001b[0m\u001b[0;34m,\u001b[0m \u001b[0mlux\u001b[0m\u001b[0;34m,\u001b[0m \u001b[0mmetadata\u001b[0m\u001b[0;34m)\u001b[0m\u001b[0;34m\u001b[0m\u001b[0;34m\u001b[0m\u001b[0m\n",
      "\u001b[0;32m/usr/local/lib/python3.7/dist-packages/Adafruit_IO/client.py\u001b[0m in \u001b[0;36msend_data\u001b[0;34m(self, feed, value, metadata, precision)\u001b[0m\n\u001b[1;32m    152\u001b[0m                 \u001b[0;32mraise\u001b[0m \u001b[0mNotImplementedError\u001b[0m\u001b[0;34m(\u001b[0m\u001b[0;34m\"Using the precision kwarg requires a float value\"\u001b[0m\u001b[0;34m)\u001b[0m\u001b[0;34m\u001b[0m\u001b[0;34m\u001b[0m\u001b[0m\n\u001b[1;32m    153\u001b[0m         \u001b[0mpayload\u001b[0m \u001b[0;34m=\u001b[0m \u001b[0mself\u001b[0m\u001b[0;34m.\u001b[0m\u001b[0m_create_payload\u001b[0m\u001b[0;34m(\u001b[0m\u001b[0mvalue\u001b[0m\u001b[0;34m,\u001b[0m \u001b[0mmetadata\u001b[0m\u001b[0;34m)\u001b[0m\u001b[0;34m\u001b[0m\u001b[0;34m\u001b[0m\u001b[0m\n\u001b[0;32m--> 154\u001b[0;31m         \u001b[0;32mreturn\u001b[0m \u001b[0mself\u001b[0m\u001b[0;34m.\u001b[0m\u001b[0mcreate_data\u001b[0m\u001b[0;34m(\u001b[0m\u001b[0mfeed\u001b[0m\u001b[0;34m,\u001b[0m \u001b[0mpayload\u001b[0m\u001b[0;34m)\u001b[0m\u001b[0;34m\u001b[0m\u001b[0;34m\u001b[0m\u001b[0m\n\u001b[0m\u001b[1;32m    155\u001b[0m \u001b[0;34m\u001b[0m\u001b[0m\n\u001b[1;32m    156\u001b[0m     \u001b[0msend\u001b[0m \u001b[0;34m=\u001b[0m \u001b[0msend_data\u001b[0m\u001b[0;34m\u001b[0m\u001b[0;34m\u001b[0m\u001b[0m\n",
      "\u001b[0;32m/usr/local/lib/python3.7/dist-packages/Adafruit_IO/client.py\u001b[0m in \u001b[0;36mcreate_data\u001b[0;34m(self, feed, data)\u001b[0m\n\u001b[1;32m    252\u001b[0m         \"\"\"\n\u001b[1;32m    253\u001b[0m         \u001b[0mpath\u001b[0m \u001b[0;34m=\u001b[0m \u001b[0;34m\"feeds/{0}/data\"\u001b[0m\u001b[0;34m.\u001b[0m\u001b[0mformat\u001b[0m\u001b[0;34m(\u001b[0m\u001b[0mfeed\u001b[0m\u001b[0;34m)\u001b[0m\u001b[0;34m\u001b[0m\u001b[0;34m\u001b[0m\u001b[0m\n\u001b[0;32m--> 254\u001b[0;31m         \u001b[0;32mreturn\u001b[0m \u001b[0mData\u001b[0m\u001b[0;34m.\u001b[0m\u001b[0mfrom_dict\u001b[0m\u001b[0;34m(\u001b[0m\u001b[0mself\u001b[0m\u001b[0;34m.\u001b[0m\u001b[0m_post\u001b[0m\u001b[0;34m(\u001b[0m\u001b[0mpath\u001b[0m\u001b[0;34m,\u001b[0m \u001b[0mdata\u001b[0m\u001b[0;34m.\u001b[0m\u001b[0m_asdict\u001b[0m\u001b[0;34m(\u001b[0m\u001b[0;34m)\u001b[0m\u001b[0;34m)\u001b[0m\u001b[0;34m)\u001b[0m\u001b[0;34m\u001b[0m\u001b[0;34m\u001b[0m\u001b[0m\n\u001b[0m\u001b[1;32m    255\u001b[0m \u001b[0;34m\u001b[0m\u001b[0m\n\u001b[1;32m    256\u001b[0m     \u001b[0;32mdef\u001b[0m \u001b[0mdelete\u001b[0m\u001b[0;34m(\u001b[0m\u001b[0mself\u001b[0m\u001b[0;34m,\u001b[0m \u001b[0mfeed\u001b[0m\u001b[0;34m,\u001b[0m \u001b[0mdata_id\u001b[0m\u001b[0;34m)\u001b[0m\u001b[0;34m:\u001b[0m\u001b[0;34m\u001b[0m\u001b[0;34m\u001b[0m\u001b[0m\n",
      "\u001b[0;32m/usr/local/lib/python3.7/dist-packages/Adafruit_IO/client.py\u001b[0m in \u001b[0;36m_post\u001b[0;34m(self, path, data)\u001b[0m\n\u001b[1;32m    125\u001b[0m                                  \u001b[0mproxies\u001b[0m\u001b[0;34m=\u001b[0m\u001b[0mself\u001b[0m\u001b[0;34m.\u001b[0m\u001b[0mproxies\u001b[0m\u001b[0;34m,\u001b[0m\u001b[0;34m\u001b[0m\u001b[0;34m\u001b[0m\u001b[0m\n\u001b[1;32m    126\u001b[0m                                  data=json.dumps(data))\n\u001b[0;32m--> 127\u001b[0;31m         \u001b[0mself\u001b[0m\u001b[0;34m.\u001b[0m\u001b[0m_handle_error\u001b[0m\u001b[0;34m(\u001b[0m\u001b[0mresponse\u001b[0m\u001b[0;34m)\u001b[0m\u001b[0;34m\u001b[0m\u001b[0;34m\u001b[0m\u001b[0m\n\u001b[0m\u001b[1;32m    128\u001b[0m         \u001b[0;32mreturn\u001b[0m \u001b[0mresponse\u001b[0m\u001b[0;34m.\u001b[0m\u001b[0mjson\u001b[0m\u001b[0;34m(\u001b[0m\u001b[0;34m)\u001b[0m\u001b[0;34m\u001b[0m\u001b[0;34m\u001b[0m\u001b[0m\n\u001b[1;32m    129\u001b[0m \u001b[0;34m\u001b[0m\u001b[0m\n",
      "\u001b[0;32m/usr/local/lib/python3.7/dist-packages/Adafruit_IO/client.py\u001b[0m in \u001b[0;36m_handle_error\u001b[0;34m(response)\u001b[0m\n\u001b[1;32m    106\u001b[0m         \u001b[0;31m# Handle all other errors (400 & 500 level HTTP responses)\u001b[0m\u001b[0;34m\u001b[0m\u001b[0;34m\u001b[0m\u001b[0;34m\u001b[0m\u001b[0m\n\u001b[1;32m    107\u001b[0m         \u001b[0;32melif\u001b[0m \u001b[0mresponse\u001b[0m\u001b[0;34m.\u001b[0m\u001b[0mstatus_code\u001b[0m \u001b[0;34m>=\u001b[0m \u001b[0;36m400\u001b[0m\u001b[0;34m:\u001b[0m\u001b[0;34m\u001b[0m\u001b[0;34m\u001b[0m\u001b[0m\n\u001b[0;32m--> 108\u001b[0;31m             \u001b[0;32mraise\u001b[0m \u001b[0mRequestError\u001b[0m\u001b[0;34m(\u001b[0m\u001b[0mresponse\u001b[0m\u001b[0;34m)\u001b[0m\u001b[0;34m\u001b[0m\u001b[0;34m\u001b[0m\u001b[0m\n\u001b[0m\u001b[1;32m    109\u001b[0m         \u001b[0;31m# Else do nothing if there was no error.\u001b[0m\u001b[0;34m\u001b[0m\u001b[0;34m\u001b[0m\u001b[0;34m\u001b[0m\u001b[0m\n\u001b[1;32m    110\u001b[0m \u001b[0;34m\u001b[0m\u001b[0m\n",
      "\u001b[0;31mRequestError\u001b[0m: Adafruit IO request failed: 422 Unprocessable Entity - request failed - Record invalid. Failed to save data to Thuviksa/feeds/new-sensor.tvocs, data missing required value"
     ]
    }
   ],
   "source": [
    "start_time   = time.time()\n",
    "current_time = start_time\n",
    "\n",
    "count = 0\n",
    "\n",
    "while running:\n",
    "    try:\n",
    "        if ((int (current_time - start_time) % update_data) == 0):\n",
    "            interc = bme280.get_temperature()\n",
    "            interf = interc * 1.8 + 32\n",
    "            humid = bme280.get_humidity()\n",
    "            press = bme280.get_pressure()\n",
    "            co2 = CCS811(i2c).eco2\n",
    "            tvocs = CCS811(i2c).tvoc\n",
    "            lux = ltr559.get_lux()\n",
    "            prox = ltr559.get_proximity()\n",
    "            range=[(100, 1200)]\n",
    "            amps = noise.get_amplitudes_at_frequency_ranges(range)\n",
    "            extc = readTemp()\n",
    "            extf = extc * 1.8 + 32\n",
    "            \n",
    "            print(tvocs)\n",
    "            \n",
    "            clear_output(wait=True)\n",
    "\n",
    "            ltr559.update_sensor()\n",
    "            output = \"External-Temp: {0:.2f} C - {1:.2f} F\".format(extc, extf)\n",
    "            output+= \"Internal-Temp: {0:.2f} C, {1:.2f} F\".format(interc, interf)\n",
    "            output+= \"Humidity: {0:.2f} % - Pressure: {1:.2f} hPa\".format(humid, press)\n",
    "            output+= \"Light: {0:.2f} - Noise: {1:.2f} - Proximity: {2:.2f}\".format(lux, amps[0], prox)\n",
    "            #output+= \"CO2: {0:.2f} ppm - TVOCs: {1:.2f} ppb\".format(co2, tvocs)\n",
    "            print(output)\n",
    "            print('Updated: ', datetime.now())\n",
    "            \n",
    "            aio.send_data(co2Feed.key, co2, metadata)\n",
    "            aio.send_data(tvocsFeed.key, tvocs, metadata)\n",
    "            aio.send_data(soundFeed.key, amps[0], metadata)\n",
    "            aio.send_data(luxFeed.key, lux, metadata)\n",
    "            aio.send_data(intTempCfeed.key, inter.c, metadata)\n",
    "            aio.send_data(intTempFfeed.key, inter.f, metadata)\n",
    "            aio.send_data(extemp2Feed.key, ext.f, metadata)\n",
    "            aio.send_data(extempFeed.key, ext.c, metadata)\n",
    "            aio.send_data(humidFeed.key, humid, metadata)\n",
    "            aio.send_data(pressFeed.key, pressure, metadata)\n",
    "            \n",
    "            now = datetime.now()\n",
    "            nowtime = now.strftime(\"%H:%M:%S\")\n",
    "            nowday = now.strftime(\"%m/%d/%Y\")\n",
    "            row = [nowday, nowtime, inter.c, inter.f, ext.c, ext.f, humid, press, lux, amps[0], co2, tvocs]\n",
    "            sheet.append_row(row)\n",
    "            \n",
    "            if(v > tvoc_alert_level):\n",
    "                if(not tvoc_alert):\n",
    "                    tvoc_alert=True\n",
    "                    msg=\"TVOC Reading is over *{0:.2f}* ppb ⚠⚠⚠\".format(tvoc_alert_level)\n",
    "                    aio.send_data(msgFeed.key, msg, metadata)\n",
    "            else:\n",
    "                if(tvoc_alert):\n",
    "                    tvoc_alert=False\n",
    "                    msg=\"TVOC Reading returned to below *{0:.2f}* ppb 😀😃😃 \".format(tvoc_alert_level)\n",
    "                    aio.send_data(msgFeed.key, msg, metadata)\n",
    "        \n",
    "        count = count + 1\n",
    "        \n",
    "        if (count > 5):\n",
    "            print(\"Update message\")\n",
    "            msg = \"_Thuviksa's Updates_\"\n",
    "            msg+=\"<br>Internal-Temp: *{0:.2f} C* - *{1:.2f} F*\".format(interc,interf)\n",
    "            msg+=\"<br>External-Temp: *{0:.2f} C* - *{01:.2f} F*\".format(extc, extf)\n",
    "            msg+=\"<br>Humidity: *{0:.2f} %* - Pressure: *{1:.2f} hPa*\".format(humid,press)\n",
    "            msg+=\"<br>Air quality: CO2: *{0:.2f} ppm* - TVOC: *{1:.2f} ppb*<br>\".format(co2,tvocs)\n",
    "            msg+=\"<br> \"\n",
    "            msg+=\"<br>Full dashboard: {}\".format(dashboard_url)\n",
    "            aio.send_data(msgFeed.key, msg, metadata)\n",
    "        \n",
    "        time.sleep(update)\n",
    "        current_time = time.time()\n",
    "\n",
    "\n",
    "            \n",
    "        print(\"Sending Data to the AdaFruit Cloud......\")\n",
    "\n",
    "    except IOError:\n",
    "        print(\"Just an IO Error, nothing to worry 😉😉😉\")\n",
    "        pass\n",
    "    \n",
    "    except KeyboardInterrupt:\n",
    "        print(\"Loop Terminated by User 👾👾👾\")\n",
    "        break\n",
    "        \n",
    "    except RuntimeError:\n",
    "        print(\"Not Good  👎👎👎\")\n",
    "        pass"
   ]
  },
  {
   "cell_type": "code",
   "execution_count": null,
   "id": "311234ee",
   "metadata": {},
   "outputs": [],
   "source": []
  }
 ],
 "metadata": {
  "kernelspec": {
   "display_name": "Python 3",
   "language": "python",
   "name": "python3"
  },
  "language_info": {
   "codemirror_mode": {
    "name": "ipython",
    "version": 3
   },
   "file_extension": ".py",
   "mimetype": "text/x-python",
   "name": "python",
   "nbconvert_exporter": "python",
   "pygments_lexer": "ipython3",
   "version": "3.7.3"
  }
 },
 "nbformat": 4,
 "nbformat_minor": 5
}
