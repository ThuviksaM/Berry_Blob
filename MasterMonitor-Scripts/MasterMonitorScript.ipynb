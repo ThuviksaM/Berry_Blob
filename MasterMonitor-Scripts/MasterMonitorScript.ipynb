{
 "cells": [
  {
   "cell_type": "markdown",
   "id": "f89e088d",
   "metadata": {},
   "source": [
    "# MasterMonitor Sensor Script"
   ]
  },
  {
   "cell_type": "markdown",
   "id": "712deb22",
   "metadata": {},
   "source": [
    "## AdaFruit IO"
   ]
  },
  {
   "cell_type": "markdown",
   "id": "fe747bf2",
   "metadata": {},
   "source": [
    "### Credentials"
   ]
  },
  {
   "cell_type": "code",
   "execution_count": 24,
   "id": "f9591d47",
   "metadata": {},
   "outputs": [],
   "source": [
    "from Adafruit_IO import Client, Feed, RequestError\n",
    "from dotenv import load_dotenv\n",
    "import os\n",
    "\n",
    "load_dotenv()\n",
    "\n",
    "AdaFruitIO_Username = os.environ.get(\"ADAFRUIT_IO_USERNAME\")\n",
    "AdaFruitIO_Key = os.environ.get(\"ADAFRUIT_IO_KEY\")\n",
    "\n",
    "aio = Client(AdaFruitIO_Username, AdaFruitIO_Key)"
   ]
  },
  {
   "cell_type": "markdown",
   "id": "977ecfa5",
   "metadata": {},
   "source": [
    "### Feeds"
   ]
  },
  {
   "cell_type": "code",
   "execution_count": 25,
   "id": "3812953a",
   "metadata": {},
   "outputs": [],
   "source": [
    "def getFeed(name):\n",
    "    try:\n",
    "        feedID = aio.feeds(name)\n",
    "    except RequestError:\n",
    "        feed = Feed(name=name)\n",
    "        feedID = aio.create_feed(feed)\n",
    "    return feedID\n",
    "\n",
    "soundFeed = getFeed(\"sound\")\n",
    "luxFeed = getFeed(\"light\")\n",
    "intTempFfeed = getFeed(\"inttempf\")\n",
    "extemp2Feed = getFeed(\"extemp2\")\n",
    "humidFeed = getFeed(\"humidity\")\n",
    "pressFeed = getFeed(\"pressure\")\n",
    "tvocsFeed = getFeed(\"new-sensor.tvocs\")\n",
    "co2Feed = getFeed(\"new-sensor.co2\")\n",
    "msgFeed = getFeed(\"new-sensor.messages\")"
   ]
  },
  {
   "cell_type": "markdown",
   "id": "07e31afb",
   "metadata": {},
   "source": [
    "## Google Sheets"
   ]
  },
  {
   "cell_type": "code",
   "execution_count": 26,
   "id": "06458223",
   "metadata": {},
   "outputs": [],
   "source": [
    "import gspread\n",
    "from oauth2client.service_account import ServiceAccountCredentials\n",
    "\n",
    "sheet_name = \"enviro-pi_log\"\n",
    "\n",
    "scopes = [\"https://www.googleapis.com/auth/drive\", \"https://www.googleapis.com/auth/drive.file\", \n",
    "          \"https://www.googleapis.com/auth/spreadsheets\"]\n",
    "creds = ServiceAccountCredentials.from_json_keyfile_name('client_secret.json', scopes)\n",
    "client = gspread.authorize(creds)\n",
    "\n",
    "# Find the workbook by name and open the first sheet\n",
    "sheet = client.open(sheet_name).worksheet(\"Values\")"
   ]
  },
  {
   "cell_type": "markdown",
   "id": "d92543de",
   "metadata": {},
   "source": [
    "## BME280 Sensor"
   ]
  },
  {
   "cell_type": "code",
   "execution_count": 27,
   "id": "ac55df96",
   "metadata": {},
   "outputs": [],
   "source": [
    "from bme280 import BME280\n",
    "\n",
    "bme280 = BME280()"
   ]
  },
  {
   "cell_type": "markdown",
   "id": "99d2e505",
   "metadata": {},
   "source": [
    "## External Temperature Sensor"
   ]
  },
  {
   "cell_type": "code",
   "execution_count": 28,
   "id": "caa9f734",
   "metadata": {},
   "outputs": [],
   "source": [
    "import smbus\n",
    "\n",
    "def readTemp():\n",
    "    address = 0x48\n",
    "    bus = smbus.SMBus(1)\n",
    "    raw = bus.read_word_data(address, 0) & 0xFFFF\n",
    "    raw = ((raw << 8) & 0xFF00) + (raw >> 8)\n",
    "    temperature = (raw / 32.0) / 8.0\n",
    "    return temperature"
   ]
  },
  {
   "cell_type": "markdown",
   "id": "39ff622e",
   "metadata": {},
   "source": [
    "## CCS811 Sensor"
   ]
  },
  {
   "cell_type": "code",
   "execution_count": 29,
   "id": "83c6c241",
   "metadata": {},
   "outputs": [
    {
     "name": "stdout",
     "output_type": "stream",
     "text": [
      "CCS811 Sensor ready.\n"
     ]
    }
   ],
   "source": [
    "import busio\n",
    "from board import I2C\n",
    "from adafruit_ccs811 import CCS811\n",
    "\n",
    "i2c = I2C() \n",
    "ccs = CCS811(i2c)\n",
    "\n",
    "while (not ccs.data_ready):\n",
    "    pass\n",
    "\n",
    "print (\"CCS811 Sensor ready.\")"
   ]
  },
  {
   "cell_type": "markdown",
   "id": "14be3c29",
   "metadata": {},
   "source": [
    "## Light Sensor"
   ]
  },
  {
   "cell_type": "code",
   "execution_count": 30,
   "id": "364e13f4",
   "metadata": {},
   "outputs": [],
   "source": [
    "from ltr559 import LTR559\n",
    "\n",
    "ltr559 = LTR559()"
   ]
  },
  {
   "cell_type": "markdown",
   "id": "b35af24d",
   "metadata": {},
   "source": [
    "## Noise Sensor"
   ]
  },
  {
   "cell_type": "code",
   "execution_count": 31,
   "id": "5b5c888f",
   "metadata": {},
   "outputs": [],
   "source": [
    "from enviroplus.noise import Noise\n",
    "\n",
    "noise = Noise()"
   ]
  },
  {
   "cell_type": "markdown",
   "id": "0ec5af02",
   "metadata": {},
   "source": [
    "## LCD Screen"
   ]
  },
  {
   "cell_type": "markdown",
   "id": "54997b4a",
   "metadata": {},
   "source": [
    "### Imports"
   ]
  },
  {
   "cell_type": "code",
   "execution_count": 32,
   "id": "b8d66937",
   "metadata": {},
   "outputs": [],
   "source": [
    "import ST7735\n",
    "from PIL import Image, ImageDraw, ImageFont\n",
    "from fonts.ttf import RobotoMedium as UserFont"
   ]
  },
  {
   "cell_type": "markdown",
   "id": "614e70c5",
   "metadata": {},
   "source": [
    "### Code"
   ]
  },
  {
   "cell_type": "code",
   "execution_count": 33,
   "id": "1c9bac2a",
   "metadata": {},
   "outputs": [],
   "source": [
    "disp = ST7735.ST7735(port=0,cs=1,dc=9,backlight=12,rotation=270,spi_speed_hz=10000000)\n",
    "disp.begin()\n",
    "\n",
    "back_color = (0, 60, 20)\n",
    "text_color = (255, 255, 255)\n",
    "head_color = (255, 255,   0)\n",
    "warn_color = (255,  50,  50)\n",
    "font_size  = 14\n",
    "text_margin= 5\n",
    "\n",
    "img = Image.new('RGBA', (disp.width, disp.height))\n",
    "draw = ImageDraw.Draw(img)\n",
    "font = ImageFont.truetype(UserFont, font_size)\n",
    "font_big = ImageFont.truetype(UserFont, 2*font_size)\n",
    "size_x, size_y = draw.textsize('text', font)\n",
    "\n",
    "def updateLCD(label, value, unit): \n",
    "    if (value < 1000):\n",
    "        vstr=\"{0:.1f} {1}\".format(value, unit)\n",
    "    else:\n",
    "        vstr=\"{0:.0f} {1}\".format(value, unit)\n",
    "        \n",
    "    draw.rectangle((0, 0, disp.width, disp.height), back_color)\n",
    "    draw.text((text_margin, text_margin), \"ORCSPICamp Station\", font=font, fill=head_color)\n",
    "    draw.text((text_margin, text_margin+2.0*size_y), label, font=font, fill=text_color)\n",
    "    draw.text((text_margin, text_margin+3.5*size_y), vstr, font=font_big, fill=text_color)\n",
    "    disp.display(img)"
   ]
  },
  {
   "cell_type": "markdown",
   "id": "a2c400ea",
   "metadata": {},
   "source": [
    "## Main"
   ]
  },
  {
   "cell_type": "markdown",
   "id": "2d4c0459",
   "metadata": {},
   "source": [
    "### Imports"
   ]
  },
  {
   "cell_type": "code",
   "execution_count": 34,
   "id": "39c685a6",
   "metadata": {
    "scrolled": true
   },
   "outputs": [],
   "source": [
    "import ST7735\n",
    "\n",
    "import time\n",
    "from IPython.display import clear_output\n",
    "from board import *\n",
    "from datetime import datetime"
   ]
  },
  {
   "cell_type": "markdown",
   "id": "ebc0372f",
   "metadata": {},
   "source": [
    "### Variables"
   ]
  },
  {
   "cell_type": "code",
   "execution_count": 35,
   "id": "c169b025",
   "metadata": {},
   "outputs": [],
   "source": [
    "metadata = {'lat': 36.017433,\n",
    "       'lon': -84.239815,\n",
    "       'ele': 0,\n",
    "       'created_at': None}\n",
    "\n",
    "update_data = 60.0\n",
    "update_msg  = 1800.0\n",
    "update_lcd  = 3.0\n",
    "next_lcd    = 'intc'\n",
    "count = 0\n",
    "\n",
    "running = True\n",
    "\n",
    "tvoc_alert = False\n",
    "tvoc_alert_level = 1500\n",
    "\n",
    "dashboard_url = \"https://io.adafruit.com/Thuviksa/dashboards/weather-monitor\""
   ]
  },
  {
   "cell_type": "markdown",
   "id": "29f34f96",
   "metadata": {},
   "source": [
    "### Loop"
   ]
  },
  {
   "cell_type": "code",
   "execution_count": 36,
   "id": "df76d497",
   "metadata": {},
   "outputs": [
    {
     "name": "stdout",
     "output_type": "stream",
     "text": [
      "External-Temp: 22.00 C - 71.60 F<br>Internal-Temp: 23.33 C, 73.99 F<br>Humidity: 83.75 % - Pressure: 618.30 hPa<br>Light: 17.74 - Noise: 0.27 - Proximity: 0.00\n",
      "Updated:  2021-10-24 10:56:45.381265\n"
     ]
    },
    {
     "ename": "RequestError",
     "evalue": "Adafruit IO request failed: 422 Unprocessable Entity - request failed - Record invalid. Failed to save data to Thuviksa/feeds/new-sensor.tvocs, data missing required value",
     "output_type": "error",
     "traceback": [
      "\u001b[0;31m---------------------------------------------------------------------------\u001b[0m",
      "\u001b[0;31mRequestError\u001b[0m                              Traceback (most recent call last)",
      "\u001b[0;32m<ipython-input-36-e013d50bbabe>\u001b[0m in \u001b[0;36m<module>\u001b[0;34m\u001b[0m\n\u001b[1;32m     34\u001b[0m \u001b[0;34m\u001b[0m\u001b[0m\n\u001b[1;32m     35\u001b[0m             \u001b[0maio\u001b[0m\u001b[0;34m.\u001b[0m\u001b[0msend_data\u001b[0m\u001b[0;34m(\u001b[0m\u001b[0mco2Feed\u001b[0m\u001b[0;34m.\u001b[0m\u001b[0mkey\u001b[0m\u001b[0;34m,\u001b[0m \u001b[0mco2\u001b[0m\u001b[0;34m,\u001b[0m \u001b[0mmetadata\u001b[0m\u001b[0;34m)\u001b[0m\u001b[0;34m\u001b[0m\u001b[0;34m\u001b[0m\u001b[0m\n\u001b[0;32m---> 36\u001b[0;31m             \u001b[0maio\u001b[0m\u001b[0;34m.\u001b[0m\u001b[0msend_data\u001b[0m\u001b[0;34m(\u001b[0m\u001b[0mtvocsFeed\u001b[0m\u001b[0;34m.\u001b[0m\u001b[0mkey\u001b[0m\u001b[0;34m,\u001b[0m \u001b[0mtvocs\u001b[0m\u001b[0;34m,\u001b[0m \u001b[0mmetadata\u001b[0m\u001b[0;34m)\u001b[0m\u001b[0;34m\u001b[0m\u001b[0;34m\u001b[0m\u001b[0m\n\u001b[0m\u001b[1;32m     37\u001b[0m             \u001b[0maio\u001b[0m\u001b[0;34m.\u001b[0m\u001b[0msend_data\u001b[0m\u001b[0;34m(\u001b[0m\u001b[0msoundFeed\u001b[0m\u001b[0;34m.\u001b[0m\u001b[0mkey\u001b[0m\u001b[0;34m,\u001b[0m \u001b[0mamps\u001b[0m\u001b[0;34m[\u001b[0m\u001b[0;36m0\u001b[0m\u001b[0;34m]\u001b[0m\u001b[0;34m,\u001b[0m \u001b[0mmetadata\u001b[0m\u001b[0;34m)\u001b[0m\u001b[0;34m\u001b[0m\u001b[0;34m\u001b[0m\u001b[0m\n\u001b[1;32m     38\u001b[0m             \u001b[0maio\u001b[0m\u001b[0;34m.\u001b[0m\u001b[0msend_data\u001b[0m\u001b[0;34m(\u001b[0m\u001b[0mluxFeed\u001b[0m\u001b[0;34m.\u001b[0m\u001b[0mkey\u001b[0m\u001b[0;34m,\u001b[0m \u001b[0mlux\u001b[0m\u001b[0;34m,\u001b[0m \u001b[0mmetadata\u001b[0m\u001b[0;34m)\u001b[0m\u001b[0;34m\u001b[0m\u001b[0;34m\u001b[0m\u001b[0m\n",
      "\u001b[0;32m/usr/local/lib/python3.7/dist-packages/Adafruit_IO/client.py\u001b[0m in \u001b[0;36msend_data\u001b[0;34m(self, feed, value, metadata, precision)\u001b[0m\n\u001b[1;32m    152\u001b[0m                 \u001b[0;32mraise\u001b[0m \u001b[0mNotImplementedError\u001b[0m\u001b[0;34m(\u001b[0m\u001b[0;34m\"Using the precision kwarg requires a float value\"\u001b[0m\u001b[0;34m)\u001b[0m\u001b[0;34m\u001b[0m\u001b[0;34m\u001b[0m\u001b[0m\n\u001b[1;32m    153\u001b[0m         \u001b[0mpayload\u001b[0m \u001b[0;34m=\u001b[0m \u001b[0mself\u001b[0m\u001b[0;34m.\u001b[0m\u001b[0m_create_payload\u001b[0m\u001b[0;34m(\u001b[0m\u001b[0mvalue\u001b[0m\u001b[0;34m,\u001b[0m \u001b[0mmetadata\u001b[0m\u001b[0;34m)\u001b[0m\u001b[0;34m\u001b[0m\u001b[0;34m\u001b[0m\u001b[0m\n\u001b[0;32m--> 154\u001b[0;31m         \u001b[0;32mreturn\u001b[0m \u001b[0mself\u001b[0m\u001b[0;34m.\u001b[0m\u001b[0mcreate_data\u001b[0m\u001b[0;34m(\u001b[0m\u001b[0mfeed\u001b[0m\u001b[0;34m,\u001b[0m \u001b[0mpayload\u001b[0m\u001b[0;34m)\u001b[0m\u001b[0;34m\u001b[0m\u001b[0;34m\u001b[0m\u001b[0m\n\u001b[0m\u001b[1;32m    155\u001b[0m \u001b[0;34m\u001b[0m\u001b[0m\n\u001b[1;32m    156\u001b[0m     \u001b[0msend\u001b[0m \u001b[0;34m=\u001b[0m \u001b[0msend_data\u001b[0m\u001b[0;34m\u001b[0m\u001b[0;34m\u001b[0m\u001b[0m\n",
      "\u001b[0;32m/usr/local/lib/python3.7/dist-packages/Adafruit_IO/client.py\u001b[0m in \u001b[0;36mcreate_data\u001b[0;34m(self, feed, data)\u001b[0m\n\u001b[1;32m    252\u001b[0m         \"\"\"\n\u001b[1;32m    253\u001b[0m         \u001b[0mpath\u001b[0m \u001b[0;34m=\u001b[0m \u001b[0;34m\"feeds/{0}/data\"\u001b[0m\u001b[0;34m.\u001b[0m\u001b[0mformat\u001b[0m\u001b[0;34m(\u001b[0m\u001b[0mfeed\u001b[0m\u001b[0;34m)\u001b[0m\u001b[0;34m\u001b[0m\u001b[0;34m\u001b[0m\u001b[0m\n\u001b[0;32m--> 254\u001b[0;31m         \u001b[0;32mreturn\u001b[0m \u001b[0mData\u001b[0m\u001b[0;34m.\u001b[0m\u001b[0mfrom_dict\u001b[0m\u001b[0;34m(\u001b[0m\u001b[0mself\u001b[0m\u001b[0;34m.\u001b[0m\u001b[0m_post\u001b[0m\u001b[0;34m(\u001b[0m\u001b[0mpath\u001b[0m\u001b[0;34m,\u001b[0m \u001b[0mdata\u001b[0m\u001b[0;34m.\u001b[0m\u001b[0m_asdict\u001b[0m\u001b[0;34m(\u001b[0m\u001b[0;34m)\u001b[0m\u001b[0;34m)\u001b[0m\u001b[0;34m)\u001b[0m\u001b[0;34m\u001b[0m\u001b[0;34m\u001b[0m\u001b[0m\n\u001b[0m\u001b[1;32m    255\u001b[0m \u001b[0;34m\u001b[0m\u001b[0m\n\u001b[1;32m    256\u001b[0m     \u001b[0;32mdef\u001b[0m \u001b[0mdelete\u001b[0m\u001b[0;34m(\u001b[0m\u001b[0mself\u001b[0m\u001b[0;34m,\u001b[0m \u001b[0mfeed\u001b[0m\u001b[0;34m,\u001b[0m \u001b[0mdata_id\u001b[0m\u001b[0;34m)\u001b[0m\u001b[0;34m:\u001b[0m\u001b[0;34m\u001b[0m\u001b[0;34m\u001b[0m\u001b[0m\n",
      "\u001b[0;32m/usr/local/lib/python3.7/dist-packages/Adafruit_IO/client.py\u001b[0m in \u001b[0;36m_post\u001b[0;34m(self, path, data)\u001b[0m\n\u001b[1;32m    125\u001b[0m                                  \u001b[0mproxies\u001b[0m\u001b[0;34m=\u001b[0m\u001b[0mself\u001b[0m\u001b[0;34m.\u001b[0m\u001b[0mproxies\u001b[0m\u001b[0;34m,\u001b[0m\u001b[0;34m\u001b[0m\u001b[0;34m\u001b[0m\u001b[0m\n\u001b[1;32m    126\u001b[0m                                  data=json.dumps(data))\n\u001b[0;32m--> 127\u001b[0;31m         \u001b[0mself\u001b[0m\u001b[0;34m.\u001b[0m\u001b[0m_handle_error\u001b[0m\u001b[0;34m(\u001b[0m\u001b[0mresponse\u001b[0m\u001b[0;34m)\u001b[0m\u001b[0;34m\u001b[0m\u001b[0;34m\u001b[0m\u001b[0m\n\u001b[0m\u001b[1;32m    128\u001b[0m         \u001b[0;32mreturn\u001b[0m \u001b[0mresponse\u001b[0m\u001b[0;34m.\u001b[0m\u001b[0mjson\u001b[0m\u001b[0;34m(\u001b[0m\u001b[0;34m)\u001b[0m\u001b[0;34m\u001b[0m\u001b[0;34m\u001b[0m\u001b[0m\n\u001b[1;32m    129\u001b[0m \u001b[0;34m\u001b[0m\u001b[0m\n",
      "\u001b[0;32m/usr/local/lib/python3.7/dist-packages/Adafruit_IO/client.py\u001b[0m in \u001b[0;36m_handle_error\u001b[0;34m(response)\u001b[0m\n\u001b[1;32m    106\u001b[0m         \u001b[0;31m# Handle all other errors (400 & 500 level HTTP responses)\u001b[0m\u001b[0;34m\u001b[0m\u001b[0;34m\u001b[0m\u001b[0;34m\u001b[0m\u001b[0m\n\u001b[1;32m    107\u001b[0m         \u001b[0;32melif\u001b[0m \u001b[0mresponse\u001b[0m\u001b[0;34m.\u001b[0m\u001b[0mstatus_code\u001b[0m \u001b[0;34m>=\u001b[0m \u001b[0;36m400\u001b[0m\u001b[0;34m:\u001b[0m\u001b[0;34m\u001b[0m\u001b[0;34m\u001b[0m\u001b[0m\n\u001b[0;32m--> 108\u001b[0;31m             \u001b[0;32mraise\u001b[0m \u001b[0mRequestError\u001b[0m\u001b[0;34m(\u001b[0m\u001b[0mresponse\u001b[0m\u001b[0;34m)\u001b[0m\u001b[0;34m\u001b[0m\u001b[0;34m\u001b[0m\u001b[0m\n\u001b[0m\u001b[1;32m    109\u001b[0m         \u001b[0;31m# Else do nothing if there was no error.\u001b[0m\u001b[0;34m\u001b[0m\u001b[0;34m\u001b[0m\u001b[0;34m\u001b[0m\u001b[0m\n\u001b[1;32m    110\u001b[0m \u001b[0;34m\u001b[0m\u001b[0m\n",
      "\u001b[0;31mRequestError\u001b[0m: Adafruit IO request failed: 422 Unprocessable Entity - request failed - Record invalid. Failed to save data to Thuviksa/feeds/new-sensor.tvocs, data missing required value"
     ]
    }
   ],
   "source": [
    "start_time   = time.time()\n",
    "current_time = start_time\n",
    "\n",
    "count = 0\n",
    "\n",
    "while running:\n",
    "    try:\n",
    "        if ((int (current_time - start_time) % update_data) == 0):\n",
    "            interc = bme280.get_temperature()\n",
    "            interf = interc * 1.8 + 32\n",
    "            humid = bme280.get_humidity()\n",
    "            press = bme280.get_pressure()\n",
    "            co2 = CCS811(i2c).eco2\n",
    "            tvocs = CCS811(i2c).tvoc\n",
    "            lux = ltr559.get_lux()\n",
    "            prox = ltr559.get_proximity()\n",
    "            range=[(100, 1200)]\n",
    "            amps = noise.get_amplitudes_at_frequency_ranges(range)\n",
    "            extc = readTemp()\n",
    "            extf = extc * 1.8 + 32\n",
    "            \n",
    "            print(tvocs)\n",
    "            \n",
    "            clear_output(wait=True)\n",
    "\n",
    "            ltr559.update_sensor()\n",
    "            output = \"External-Temp: {0:.2f} C - {1:.2f} F\".format(extc, extf)\n",
    "            output+= \"<br>Internal-Temp: {0:.2f} C, {1:.2f} F\".format(interc, interf)\n",
    "            output+= \"<br>Humidity: {0:.2f} % - Pressure: {1:.2f} hPa\".format(humid, press)\n",
    "            output+= \"<br>Light: {0:.2f} - Noise: {1:.2f} - Proximity: {2:.2f}\".format(lux, amps[0], prox)\n",
    "            #output+= \"<br>CO2: {0:.2f} ppm - TVOCs: {1:.2f} ppb\".format(co2, tvocs)\n",
    "            print(output)\n",
    "            print('Updated: ', datetime.now())\n",
    "            \n",
    "            aio.send_data(co2Feed.key, co2, metadata)\n",
    "            aio.send_data(tvocsFeed.key, tvocs, metadata)\n",
    "            aio.send_data(soundFeed.key, amps[0], metadata)\n",
    "            aio.send_data(luxFeed.key, lux, metadata)\n",
    "            aio.send_data(intTempCfeed.key, inter.c, metadata)\n",
    "            aio.send_data(intTempFfeed.key, inter.f, metadata)\n",
    "            aio.send_data(extemp2Feed.key, ext.f, metadata)\n",
    "            aio.send_data(extempFeed.key, ext.c, metadata)\n",
    "            aio.send_data(humidFeed.key, humid, metadata)\n",
    "            aio.send_data(pressFeed.key, pressure, metadata)\n",
    "            \n",
    "            now = datetime.now()\n",
    "            nowtime = now.strftime(\"%H:%M:%S\")\n",
    "            nowday = now.strftime(\"%m/%d/%Y\")\n",
    "            row = [nowday, nowtime, inter.c, inter.f, ext.c, ext.f, humid, press, lux, amps[0], co2, tvocs]\n",
    "            sheet.append_row(row)\n",
    "            \n",
    "            if(v > tvoc_alert_level):\n",
    "                if(not tvoc_alert):\n",
    "                    tvoc_alert=True\n",
    "                    msg=\"TVOC Reading is over *{0:.2f}* ppb ⚠⚠⚠\".format(tvoc_alert_level)\n",
    "                    aio.send_data(msgFeed.key, msg, metadata)\n",
    "            else:\n",
    "                if(tvoc_alert):\n",
    "                    tvoc_alert=False\n",
    "                    msg=\"TVOC Reading returned to below *{0:.2f}* ppb 😀😃😃 \".format(tvoc_alert_level)\n",
    "                    aio.send_data(msgFeed.key, msg, metadata)\n",
    "        \n",
    "        count = count + 1\n",
    "        \n",
    "        if (count > 5):\n",
    "            print(\"Update message\")\n",
    "            msg = \"_Thuviksa's Updates_\"\n",
    "            msg+=\"<br>Internal-Temp: *{0:.2f} C* - *{1:.2f} F*\".format(interc,interf)\n",
    "            msg+=\"<br>External-Temp: *{0:.2f} C* - *{01:.2f} F*\".format(extc, extf)\n",
    "            msg+=\"<br>Humidity: *{0:.2f} %* - Pressure: *{1:.2f} hPa*\".format(humid,press)\n",
    "            msg+=\"<br>Air quality: CO2: *{0:.2f} ppm* - TVOC: *{1:.2f} ppb*<br>\".format(co2,tvocs)\n",
    "            msg+=\"<br> \"\n",
    "            msg+=\"<br>Full dashboard: {}\".format(dashboard_url)\n",
    "            aio.send_data(msgFeed.key, msg, metadata)\n",
    "        \n",
    "        time.sleep(update_lcd)\n",
    "        current_time = time.time()\n",
    "        \n",
    "        if (next_lcd == 'intc'):\n",
    "            updateLCD('Internal-Temp', interc, 'C')\n",
    "            next_lcd = 'intf'\n",
    "        elif (next_lcd == 'intf'):\n",
    "            updateLCD('Internal-Temp', interf, 'F')\n",
    "            next_lcd = 'extc'\n",
    "        elif (next_lcd == 'extc'):\n",
    "            uddateLCD('External-Temp', extc, 'C')\n",
    "            next_lcd = 'extf'\n",
    "        elif (next_lcd == 'extf'):\n",
    "            updateLCD('External-Temp', extf, 'F')\n",
    "            next_lcd = 'humid'\n",
    "        elif (next_lcd == 'humid'):\n",
    "            updateLCD('Humidity', humid, '%')\n",
    "            next_lcd = 'press'\n",
    "        elif (next_lcd == 'press'):\n",
    "            updateLCD('Pressure', press, 'hPa')\n",
    "            next_lcd = 'co2'\n",
    "        elif (next_lcd == 'co2'):\n",
    "            updateLCD('CO2', co2, 'ppm')\n",
    "            next_lcd = 'tvocs'\n",
    "        elif (next_lcd == 'tvocs'):\n",
    "            updateLCD('TVOCs', tvocs, 'ppb')\n",
    "            next_lcd = 'intc'\n",
    "            \n",
    "        print(\"Sending Data to the AdaFruit Cloud... 📊📊📊\")\n",
    "\n",
    "    except IOError:\n",
    "        print(\"Just an IO Error, nothing to worry 😉😉😉\")\n",
    "        pass\n",
    "    \n",
    "    except KeyboardInterrupt:\n",
    "        print(\"Loop Terminated by User 👾👾👾\")\n",
    "        running = False\n",
    "        \n",
    "    except RuntimeError:\n",
    "        print(\"Not Good  👎👎👎\")\n",
    "        pass"
   ]
  },
  {
   "cell_type": "code",
   "execution_count": null,
   "id": "311234ee",
   "metadata": {},
   "outputs": [],
   "source": []
  }
 ],
 "metadata": {
  "kernelspec": {
   "display_name": "Python 3",
   "language": "python",
   "name": "python3"
  },
  "language_info": {
   "codemirror_mode": {
    "name": "ipython",
    "version": 3
   },
   "file_extension": ".py",
   "mimetype": "text/x-python",
   "name": "python",
   "nbconvert_exporter": "python",
   "pygments_lexer": "ipython3",
   "version": "3.7.3"
  }
 },
 "nbformat": 4,
 "nbformat_minor": 5
}
