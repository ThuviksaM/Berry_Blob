{
 "cells": [
  {
   "cell_type": "markdown",
   "id": "f89e088d",
   "metadata": {},
   "source": [
    "# MasterMonitor Sensor Script"
   ]
  },
  {
   "cell_type": "markdown",
   "id": "712deb22",
   "metadata": {},
   "source": [
    "## AdaFruit IO"
   ]
  },
  {
   "cell_type": "markdown",
   "id": "d0b73711",
   "metadata": {},
   "source": [
    "### Credentials"
   ]
  },
  {
   "cell_type": "code",
   "execution_count": 2,
   "id": "f9591d47",
   "metadata": {},
   "outputs": [],
   "source": [
    "from Adafruit_IO import Client, Feed, RequestError\n",
    "from dotenv import load_dotenv\n",
    "import os\n",
    "\n",
    "load_dotenv()\n",
    "\n",
    "AdaFruitIO_Username = os.environ.get(\"ADAFRUIT_IO_USERNAME\")\n",
    "AdaFruitIO_Key = os.environ.get(\"ADAFRUIT_IO_KEY\")\n",
    "\n",
    "aio = Client(AdaFruitIO_Username, AdaFruitIO_Key)"
   ]
  },
  {
   "cell_type": "markdown",
   "id": "bb5fa0bd",
   "metadata": {},
   "source": [
    "### Feeds"
   ]
  },
  {
   "cell_type": "code",
   "execution_count": null,
   "id": "21da66c3",
   "metadata": {},
   "outputs": [],
   "source": [
    "def getFeed(name):\n",
    "    try:\n",
    "        feedID = aio.feeds(name)\n",
    "    except RequestError:\n",
    "        feed = Feed(name=name)\n",
    "        feedID = aio.create_feed(feed)\n",
    "    return feedID\n",
    "\n",
    "soundFeed = getFeed(\"sound\")\n",
    "luxFeed = getFeed(\"light\")\n",
    "intTempCfeed = getFeed(\"inttempc\")\n",
    "intTempFfeed = getFeed(\"inttempf\")\n",
    "extemp2Feed = getFeed(\"extemp2\")\n",
    "extempFeed = getFeed(\"extemp\")\n",
    "humidFeed = getFeed(\"humidity\")\n",
    "pressFeed = getFeed(\"pressure\")\n",
    "tvocsFeed = getFeed(\"new-sensor.tvocs\")\n",
    "co2Feed = getFeed(\"new-sensor.co2\")"
   ]
  },
  {
   "cell_type": "markdown",
   "id": "07e31afb",
   "metadata": {},
   "source": [
    "## Google Sheets"
   ]
  },
  {
   "cell_type": "code",
   "execution_count": 1,
   "id": "06458223",
   "metadata": {},
   "outputs": [],
   "source": [
    "import gspread\n",
    "from oauth2client.service_account import ServiceAccountCredentials\n",
    "\n",
    "sheet_name = \"enviro-pi_log\"\n",
    "\n",
    "scopes = [\"https://www.googleapis.com/auth/drive\", \"https://www.googleapis.com/auth/drive.file\", \n",
    "          \"https://www.googleapis.com/auth/spreadsheets\"]\n",
    "creds = ServiceAccountCredentials.from_json_keyfile_name('client_secret.json', scopes)\n",
    "client = gspread.authorize(creds)\n",
    "\n",
    "# Find the workbook by name and open the first sheet\n",
    "sheet = client.open(sheet_name).worksheet(\"Values\")"
   ]
  },
  {
   "cell_type": "markdown",
   "id": "47bb4ac1",
   "metadata": {},
   "source": [
    "## BME280 Sensor\n",
    "###### (Humidity, Pressure, and Temperature)"
   ]
  },
  {
   "cell_type": "code",
   "execution_count": null,
   "id": "2f6e9718",
   "metadata": {},
   "outputs": [],
   "source": [
    "from bme280 import BME280\n",
    "\n",
    "bme280 = BME280()\n",
    "\n",
    "inter.c = bme280.get_temperature()\n",
    "inter.f = InternalC * 1.8 + 32\n",
    "humid = bme280.get_humidity()\n",
    "press = bme280.get_pressure()"
   ]
  },
  {
   "cell_type": "markdown",
   "id": "99d2e505",
   "metadata": {},
   "source": [
    "## External Temperature Sensor"
   ]
  },
  {
   "cell_type": "code",
   "execution_count": 5,
   "id": "caa9f734",
   "metadata": {},
   "outputs": [],
   "source": [
    "import smbus\n",
    "\n",
    "def readTemp():\n",
    "    address = 0x48\n",
    "    bus = smbus.SMBus(1)\n",
    "    raw = bus.read_word_data(address, 0) & 0xFFFF\n",
    "    raw = ((raw << 8) & 0xFF00) + (raw >> 8)\n",
    "    temperature = (raw / 32.0) / 8.0\n",
    "    return temperature\n",
    "\n",
    "ext.c = readTemp()\n",
    "ext.f = External * 1.8 + 32"
   ]
  },
  {
   "cell_type": "markdown",
   "id": "39ff622e",
   "metadata": {},
   "source": [
    "## CCS811 Sensor\n",
    "###### CO2 and VOCs"
   ]
  },
  {
   "cell_type": "code",
   "execution_count": 7,
   "id": "83c6c241",
   "metadata": {},
   "outputs": [
    {
     "name": "stdout",
     "output_type": "stream",
     "text": [
      "CCS811 Sensor ready.\n"
     ]
    }
   ],
   "source": [
    "import busio\n",
    "import board\n",
    "import adafruit_ccs811\n",
    "\n",
    "i2c = board.I2C()\n",
    "ccs =  adafruit_ccs811.CCS811(i2c)\n",
    "\n",
    "while (not ccs.data_ready):\n",
    "    pass\n",
    "\n",
    "print (\"CCS811 Sensor ready.\")\n",
    "\n",
    "co2 = ccs.eco2\n",
    "tvocs = ccs.tvoc"
   ]
  },
  {
   "cell_type": "markdown",
   "id": "38ef905f",
   "metadata": {},
   "source": [
    "## Light Sensor"
   ]
  },
  {
   "cell_type": "code",
   "execution_count": null,
   "id": "6730f261",
   "metadata": {},
   "outputs": [],
   "source": [
    "from ltr559 import LTR559\n",
    "\n",
    "ltr559 = LTR559()\n",
    "\n",
    "lux = ltr559.get_lux()\n",
    "prox = ltr559.get_proximity()"
   ]
  },
  {
   "cell_type": "markdown",
   "id": "ce03bcaf",
   "metadata": {},
   "source": [
    "## Noise Sensor"
   ]
  },
  {
   "cell_type": "code",
   "execution_count": null,
   "id": "e96eff06",
   "metadata": {},
   "outputs": [],
   "source": [
    "from enviroplus.noise import Noise\n",
    "\n",
    "noise = Noise()\n",
    "\n",
    "range=[(100, 1200)]\n",
    "amps = noise.get_amplitudes_at_frequency_ranges(range)"
   ]
  },
  {
   "cell_type": "markdown",
   "id": "a2c400ea",
   "metadata": {},
   "source": [
    "## Main"
   ]
  },
  {
   "cell_type": "markdown",
   "id": "2d4c0459",
   "metadata": {},
   "source": [
    "### Imports"
   ]
  },
  {
   "cell_type": "code",
   "execution_count": 8,
   "id": "39c685a6",
   "metadata": {
    "scrolled": true
   },
   "outputs": [],
   "source": [
    "import ST7735\n",
    "\n",
    "import time\n",
    "from IPython.display import clear_output\n",
    "from board import *\n",
    "from datetime import datetime"
   ]
  },
  {
   "cell_type": "markdown",
   "id": "ebc0372f",
   "metadata": {},
   "source": [
    "### Variables"
   ]
  },
  {
   "cell_type": "code",
   "execution_count": 9,
   "id": "c169b025",
   "metadata": {},
   "outputs": [],
   "source": [
    "try:\n",
    "    metadata = {'lat': 36.017433,\n",
    "           'lon': -84.239815,\n",
    "           'ele': 0,\n",
    "           'created_at': None}\n",
    "\n",
    "    time_calculation = time.time()\n",
    "    \n",
    "    aio.send_data(co2Feed.key, co2, metadata)\n",
    "    aio.send_data(tvocsFeed.key, tvocs, metadata)\n",
    "    aio.send_data(soundFeed.key, amps[0], metadata)\n",
    "    aio.send_data(luxFeed.key, lux, metadata)\n",
    "    aio.send_data(intTempCfeed.key, inter.c, metadata)\n",
    "    aio.send_data(intTempFfeed.key, inter.f, metadata)\n",
    "    aio.send_data(extemp2Feed.key, ext.f, metadata)\n",
    "    aio.send_data(extempFeed.key, ext.c, metadata)\n",
    "    aio.send_data(humidFeed.key, humid, metadata)\n",
    "    aio.send_data(pressFeed.key, press, metadata)\n",
    "    \n",
    "    time_elapsed = time.time() - time_calculation\n",
    "\n",
    "except IOError:\n",
    "        pass\n",
    "    \n",
    "except KeyboardInterrupt:\n",
    "    print(\"Terminated by User\")\n",
    "    break\n",
    "\n",
    "except RuntimeError:\n",
    "    print(\"Not Good\")"
   ]
  },
  {
   "cell_type": "markdown",
   "id": "29f34f96",
   "metadata": {},
   "source": [
    "### Loop"
   ]
  },
  {
   "cell_type": "code",
   "execution_count": 10,
   "id": "df76d497",
   "metadata": {},
   "outputs": [
    {
     "name": "stdout",
     "output_type": "stream",
     "text": [
      "Temperature: External: 21.75 C, External: 71.15 F, Internal: 28.59 C, Internal: 83.46 F, - Humidity: 50.88 % - Pressure: 990.65 hPa, - CO2: 400.00 ppm, - TVOCs: 0.00 ppb\n",
      "Loop Terminated by User\n"
     ]
    }
   ],
   "source": [
    "while True:\n",
    "    try:\n",
    "        out = \"External-Temp: {0:.2f} C, {1:.2f} F - Internal-Temp: {2:.2f} C, {3:.2f} F, - Humidity: {4:.2f} % - Pressure: {5:.2f} hPa\".format(ext.c, ext.f, inter.c, inter.f, humid, press)\n",
    "        _ = \"Light: {0:.2f} - Noise: {1:.2f} - Proximity: {2:.2f}\".format(lux, amps[0], prox)\n",
    "        put = \"CO2: {6:.2f} ppm, - TVOCs: {7:.2f} ppb\".format(co2, tvocs)\n",
    "        print(out, _, put)\n",
    "        print('Updated: ', datetime.now())\n",
    "        \n",
    "        now = datetime.now()\n",
    "        nowtime = now.strftime(\"%H:%M:%S\")\n",
    "        nowday = now.strftime(\"%m/%d/%Y\")\n",
    "        row = [nowday, nowtime, inter.c, inter.f, ext.c, ext.f, humid, press, lux, amps[0], co2, tvocs]\n",
    "        sheet.append_row(row)\n",
    "        \n",
    "        time.sleep(30)\n",
    "        clear_output()\n",
    "        time_elapsed = time.time() - time_calculation\n",
    "        \n",
    "        if time_elapsed == 5:\n",
    "            time_calculation = time.time()\n",
    "            aio.send_data(co2Feed.key, co2, metadata)\n",
    "            aio.send_data(tvocsFeed.key, tvocs, metadata)\n",
    "            aio.send_data(soundFeed.key, amps[0], metadata)\n",
    "            aio.send_data(luxFeed.key, lux, metadata)\n",
    "            aio.send_data(intTempCfeed.key, inter.c, metadata)\n",
    "            aio.send_data(intTempFfeed.key, inter.f, metadata)\n",
    "            aio.send_data(extemp2Feed.key, ext.f, metadata)\n",
    "            aio.send_data(extempFeed.key, ext.c, metadata)\n",
    "            aio.send_data(humidFeed.key, humid, metadata)\n",
    "            aio.send_data(pressFeed.key, pressure, metadata)\n",
    "            \n",
    "            print(\"Sending Data to the AdaFruit Cloud......\")\n",
    "\n",
    "    except IOError:\n",
    "        pass\n",
    "    \n",
    "    except KeyboardInterrupt:\n",
    "        print(\"Loop Terminated by User\")\n",
    "        break\n",
    "        \n",
    "    except RuntimeError:\n",
    "        print(\"Not Good\")"
   ]
  }
 ],
 "metadata": {
  "kernelspec": {
   "display_name": "Python 3",
   "language": "python",
   "name": "python3"
  },
  "language_info": {
   "codemirror_mode": {
    "name": "ipython",
    "version": 3
   },
   "file_extension": ".py",
   "mimetype": "text/x-python",
   "name": "python",
   "nbconvert_exporter": "python",
   "pygments_lexer": "ipython3",
   "version": "3.7.3"
  }
 },
 "nbformat": 4,
 "nbformat_minor": 5
}
